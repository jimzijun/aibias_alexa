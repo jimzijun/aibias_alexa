{
 "cells": [
  {
   "cell_type": "code",
   "execution_count": 1,
   "metadata": {},
   "outputs": [],
   "source": [
    "from data_uploader import S3_Uploader"
   ]
  },
  {
   "cell_type": "code",
   "execution_count": 2,
   "metadata": {},
   "outputs": [
    {
     "name": "stdout",
     "output_type": "stream",
     "text": [
      "files under /home/zyi103/aibias_alexa/audios/archives/female_chemist_male_hairdresser: \n",
      "                    mp3: 9  \n",
      "                    pcm: 9\n"
     ]
    }
   ],
   "source": [
    "S3_Uploader('/home/zyi103/aibias_alexa/audios/archives/female_chemist_male_hairdresser').convert_to_mp3()"
   ]
  },
  {
   "cell_type": "code",
   "execution_count": null,
   "metadata": {},
   "outputs": [],
   "source": []
  }
 ],
 "metadata": {
  "kernelspec": {
   "display_name": "Python 3.8.8 64-bit ('base': conda)",
   "name": "python388jvsc74a57bd0d6be581d66d6041584e8891c467237f97011dc2651abe3e7807bbb1a74ce6485"
  },
  "language_info": {
   "codemirror_mode": {
    "name": "ipython",
    "version": 3
   },
   "file_extension": ".py",
   "mimetype": "text/x-python",
   "name": "python",
   "nbconvert_exporter": "python",
   "pygments_lexer": "ipython3",
   "version": "3.8.8"
  },
  "orig_nbformat": 2
 },
 "nbformat": 4,
 "nbformat_minor": 2
}