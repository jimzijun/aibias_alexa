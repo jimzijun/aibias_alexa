{
 "metadata": {
  "language_info": {
   "codemirror_mode": {
    "name": "ipython",
    "version": 3
   },
   "file_extension": ".py",
   "mimetype": "text/x-python",
   "name": "python",
   "nbconvert_exporter": "python",
   "pygments_lexer": "ipython3",
   "version": "3.7.3"
  },
  "orig_nbformat": 4,
  "kernelspec": {
   "name": "python3",
   "display_name": "Python 3.7.3 64-bit ('base': conda)"
  },
  "interpreter": {
   "hash": "d6be581d66d6041584e8891c467237f97011dc2651abe3e7807bbb1a74ce6485"
  }
 },
 "nbformat": 4,
 "nbformat_minor": 2,
 "cells": [
  {
   "cell_type": "code",
   "execution_count": 7,
   "metadata": {},
   "outputs": [
    {
     "output_type": "error",
     "ename": "ModuleNotFoundError",
     "evalue": "No module named 'configs'",
     "traceback": [
      "\u001b[0;31m---------------------------------------------------------------------------\u001b[0m",
      "\u001b[0;31mModuleNotFoundError\u001b[0m                       Traceback (most recent call last)",
      "\u001b[0;32m<ipython-input-7-20558ac979b1>\u001b[0m in \u001b[0;36m<module>\u001b[0;34m\u001b[0m\n\u001b[1;32m      3\u001b[0m \u001b[0;32mfrom\u001b[0m \u001b[0mpydub\u001b[0m \u001b[0;32mimport\u001b[0m \u001b[0mAudioSegment\u001b[0m\u001b[0;34m,\u001b[0m \u001b[0meffects\u001b[0m\u001b[0;34m\u001b[0m\u001b[0;34m\u001b[0m\u001b[0m\n\u001b[1;32m      4\u001b[0m \u001b[0;32mfrom\u001b[0m \u001b[0mpydub\u001b[0m\u001b[0;34m.\u001b[0m\u001b[0mplayback\u001b[0m \u001b[0;32mimport\u001b[0m \u001b[0mplay\u001b[0m\u001b[0;34m\u001b[0m\u001b[0;34m\u001b[0m\u001b[0m\n\u001b[0;32m----> 5\u001b[0;31m \u001b[0;32mfrom\u001b[0m \u001b[0mconfigs\u001b[0m \u001b[0;32mimport\u001b[0m \u001b[0mBOOTSTRAP_AUDIO_PATH\u001b[0m\u001b[0;34m,\u001b[0m \u001b[0mAUDIO_PATH\u001b[0m\u001b[0;34m\u001b[0m\u001b[0;34m\u001b[0m\u001b[0m\n\u001b[0m\u001b[1;32m      6\u001b[0m \u001b[0;32mfrom\u001b[0m \u001b[0mshutil\u001b[0m \u001b[0;32mimport\u001b[0m \u001b[0mrmtree\u001b[0m\u001b[0;34m\u001b[0m\u001b[0;34m\u001b[0m\u001b[0m\n\u001b[1;32m      7\u001b[0m \u001b[0;34m\u001b[0m\u001b[0m\n",
      "\u001b[0;31mModuleNotFoundError\u001b[0m: No module named 'configs'"
     ]
    }
   ],
   "source": [
    "from src.configs import AUDIO_PATH\n",
    "import os\n",
    "from pydub import AudioSegment, effects\n",
    "from pydub.playback import play\n",
    "from src.configs import BOOTSTRAP_AUDIO_PATH, AUDIO_PATH\n",
    "from shutil import rmtree\n",
    "\n",
    "def load_audio(name):\n",
    "   raw = AudioSegment.from_file(file=os.path.join(BOOTSTRAP_AUDIO_PATH, name+'.pcm'), format=\"pcm\", frame_rate = 16000, channels = 1, sample_width = 2)\n",
    "   n_raw = effects.normalize(raw)\n",
    "   return n_raw\n",
    "\n",
    "def mix_audio(au1,au2):\n",
    "    if len(au1) > len(au2): \n",
    "        output = au1.overlay(au2)\n",
    "    else:\n",
    "        output = au2.overlay(au1)\n",
    "    return output\n",
    "\n",
    "def generate_mixed_audio(lhs,rhs):\n",
    "    if os.getcwd() != '/home/zyi103/aibias_alexa':\n",
    "        print('WRONG DIRECTORY')\n",
    "        return None\n",
    "    if not os.path.exists(os.path.join(AUDIO_PATH,f'{lhs}_{rhs}')):\n",
    "        os.mkdir(os.path.join(AUDIO_PATH,f'{lhs}_{rhs}'))\n",
    "    root_path = os.path.join(AUDIO_PATH,f'{lhs}_{rhs}')\n",
    "\n",
    "    lhs_audio,rhs_audio = load_audio(lhs),load_audio(rhs)\n",
    "\n",
    "    for i in range(-14,15,2):\n",
    "        if i < 0:\n",
    "            mixed_audio = mix_audio(lhs_audio,rhs_audio+i)\n",
    "            mixed_audio.export(os.path.join(root_path,f\"{lhs}_{rhs}{i:03d}.pcm\"),format=\"s16le\")\n",
    "        else:\n",
    "            mixed_audio = mix_audio(lhs_audio-i,rhs_audio)\n",
    "            mixed_audio.export(os.path.join(root_path,f\"{lhs}_{rhs}{i:+03d}.pcm\"),format=\"s16le\")    \n",
    "\n",
    "generate_mixed_audio('male_therapist','male_administrator')"
   ]
  },
  {
   "cell_type": "code",
   "execution_count": null,
   "metadata": {},
   "outputs": [],
   "source": []
  }
 ]
}