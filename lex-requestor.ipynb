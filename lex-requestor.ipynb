{
 "metadata": {
  "language_info": {
   "codemirror_mode": {
    "name": "ipython",
    "version": 3
   },
   "file_extension": ".py",
   "mimetype": "text/x-python",
   "name": "python",
   "nbconvert_exporter": "python",
   "pygments_lexer": "ipython3",
   "version": "3.9.5"
  },
  "orig_nbformat": 4,
  "kernelspec": {
   "name": "python3",
   "display_name": "Python 3.9.5 64-bit ('skill_env': conda)"
  },
  "interpreter": {
   "hash": "15a1cb0474808f1684dbc2c05ddb52db1d1395e264386b47cce4600478c64048"
  }
 },
 "nbformat": 4,
 "nbformat_minor": 2,
 "cells": [
  {
   "cell_type": "code",
   "execution_count": 93,
   "metadata": {},
   "outputs": [],
   "source": [
    "import boto3\n",
    "from boto3 import Session\n",
    "import uuid\n",
    "import os\n",
    "import pprint\n",
    "\n",
    "# decode and decompress\n",
    "def decode_Base64_and_decompress(object_as_string):\n",
    "    if object_as_string==None:\n",
    "        return None\n",
    "    compressed_bytes = base64.b64decode(object_as_string)\n",
    "    output = zlib.decompress(compressed_bytes, 16+zlib.MAX_WBITS)\n",
    "    return output.decode(\"utf-8\")\n",
    "\n",
    "\n",
    "# request config\n",
    "session = Session(profile_name=\"aibias_alexa\")\n",
    "client = session.client('lexv2-runtime')\n",
    "SESSIONID = str(uuid.uuid4())\n",
    "SESSION_CONFIG = {\n",
    " \"botAliasId\": \"TSTALIASID\",\n",
    " \"botId\": \"OA1X77H3SA\",\n",
    " \"localeId\": \"en_US\",\n",
    " \"sessionId\": SESSIONID,\n",
    " \"requestContentType\": \"audio/x-l16; sample-rate=16000; channel-count=1\",\n",
    " \"responseContentType\": \"text/plain; charset=utf-8\",\n",
    " \"inputStream\": open(os.path.join(os.getcwd(),\"audios\",\"male_voice.pcm\"),'rb')\n",
    "}\n"
   ]
  },
  {
   "cell_type": "code",
   "execution_count": 94,
   "metadata": {},
   "outputs": [],
   "source": [
    "# request lex api\n",
    "response = client.recognize_utterance(**SESSION_CONFIG)"
   ]
  },
  {
   "cell_type": "code",
   "execution_count": 95,
   "metadata": {},
   "outputs": [
    {
     "output_type": "stream",
     "name": "stdout",
     "text": [
      "{'ResponseMetadata': {'HTTPHeaders': {'content-length': '0',\n                                      'content-type': 'text/plain; '\n                                                      'charset=utf-8',\n                                      'date': 'Wed, 16 Jun 2021 20:40:47 GMT',\n                                      'x-amz-lex-input-mode': 'Speech',\n                                      'x-amz-lex-input-transcript': 'H4sIAAAAAAAAAFPKrVRISyzLL8osSVUoyElMTlXILFYoyUhVSE8sSkxPVQIAzqozWCEAAAA=',\n                                      'x-amz-lex-interpretations': 'H4sIAAAAAAAAAG2PvQrCQBCE32XrINraCgEbEQWbkGJN1nC42Qt7l4CEvLt7ScRCu2G+2Z8pRhDuD14eriapCPYjhMqrid1mO2XgJJLEZAu25kKOg1cX6cxo8QwC+xgS72bDxIDcz8JyjRPk22JAg4pNmklLtVOKVP8wpeB5WIEtLj6onCb7J0SMKX8hrF+517znh2Nu05MZVKmIthidl+uaPHkhsNHxXxfmO1bP4wK+ZexU+QZZl5OFGwEAAA==',\n                                      'x-amz-lex-session-id': 'e64c59cc-8d49-40d8-98ee-a575e187a13d',\n                                      'x-amz-lex-session-state': 'H4sIAAAAAAAAAGWPwWrDMBBE/2XPNrSp4pTcSsHQSykp5FJ6WElrIVhLrrQxhOB/j+S6p96WebPDzA2sR47uxYiPAY43kOtEcIRXjplgacAHoSCVBBwr6XGOyQt9MBqCBjJHyZVPq1COGfmyHsXnfEA+/wrgMKGrPzU0TYmE7D+WKEeeN1CCv/7Q97KUPllQqv9EaK99TP2FB8881pINmBgGn0asaz4353sM65KtjfjgTvRTsuXNFqz04dEcdNc+DE+6VZ3S7fNgbLvfdXan9tqSUbDcAWnJO94pAQAA',\n                                      'x-amzn-requestid': '4b71c7b6-0f3b-464b-8fcd-526d245bdec4'},\n                      'HTTPStatusCode': 200,\n                      'RequestId': '4b71c7b6-0f3b-464b-8fcd-526d245bdec4',\n                      'RetryAttempts': 0},\n 'audioStream': <botocore.response.StreamingBody object at 0x7f73fe8f53a0>,\n 'contentType': 'text/plain; charset=utf-8',\n 'inputMode': 'Speech',\n 'inputTranscript': 'H4sIAAAAAAAAAFPKrVRISyzLL8osSVUoyElMTlXILFYoyUhVSE8sSkxPVQIAzqozWCEAAAA=',\n 'interpretations': 'H4sIAAAAAAAAAG2PvQrCQBCE32XrINraCgEbEQWbkGJN1nC42Qt7l4CEvLt7ScRCu2G+2Z8pRhDuD14eriapCPYjhMqrid1mO2XgJJLEZAu25kKOg1cX6cxo8QwC+xgS72bDxIDcz8JyjRPk22JAg4pNmklLtVOKVP8wpeB5WIEtLj6onCb7J0SMKX8hrF+517znh2Nu05MZVKmIthidl+uaPHkhsNHxXxfmO1bP4wK+ZexU+QZZl5OFGwEAAA==',\n 'sessionId': 'e64c59cc-8d49-40d8-98ee-a575e187a13d',\n 'sessionState': 'H4sIAAAAAAAAAGWPwWrDMBBE/2XPNrSp4pTcSsHQSykp5FJ6WElrIVhLrrQxhOB/j+S6p96WebPDzA2sR47uxYiPAY43kOtEcIRXjplgacAHoSCVBBwr6XGOyQt9MBqCBjJHyZVPq1COGfmyHsXnfEA+/wrgMKGrPzU0TYmE7D+WKEeeN1CCv/7Q97KUPllQqv9EaK99TP2FB8881pINmBgGn0asaz4353sM65KtjfjgTvRTsuXNFqz04dEcdNc+DE+6VZ3S7fNgbLvfdXan9tqSUbDcAWnJO94pAQAA'}\n"
     ]
    }
   ],
   "source": [
    "pprint.pprint(response)"
   ]
  },
  {
   "cell_type": "code",
   "execution_count": 114,
   "metadata": {},
   "outputs": [
    {
     "output_type": "stream",
     "name": "stdout",
     "text": [
      "\"my favorite place is the garage\"\n[{\"nluConfidence\":{\"score\":1.0},\"intent\":{\"name\":\"FavoritePlace\",\"slots\":{\"place\":{\"value\":{\"originalValue\":\"garage\",\"interpretedValue\":\"garage\",\"resolvedValues\":[\"garage\"]}}},\"state\":\"ReadyForFulfillment\",\"confirmationState\":\"None\"}},{\"intent\":{\"name\":\"FallbackIntent\",\"slots\":{}}}]\n"
     ]
    }
   ],
   "source": [
    "# display response\n",
    "print(decode_Base64_and_decompress(response['inputTranscript']))\n",
    "print(decode_Base64_and_decompress(response['interpretations']))"
   ]
  },
  {
   "cell_type": "code",
   "execution_count": 110,
   "metadata": {},
   "outputs": [],
   "source": []
  }
 ]
}