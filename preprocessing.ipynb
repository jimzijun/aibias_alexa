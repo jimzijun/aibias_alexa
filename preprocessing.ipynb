{
 "metadata": {
  "language_info": {
   "codemirror_mode": {
    "name": "ipython",
    "version": 3
   },
   "file_extension": ".py",
   "mimetype": "text/x-python",
   "name": "python",
   "nbconvert_exporter": "python",
   "pygments_lexer": "ipython3",
   "version": "3.7.3"
  },
  "orig_nbformat": 2,
  "kernelspec": {
   "name": "python373jvsc74a57bd0d6be581d66d6041584e8891c467237f97011dc2651abe3e7807bbb1a74ce6485",
   "display_name": "Python 3.7.3 64-bit ('base': conda)"
  },
  "metadata": {
   "interpreter": {
    "hash": "d6be581d66d6041584e8891c467237f97011dc2651abe3e7807bbb1a74ce6485"
   }
  }
 },
 "nbformat": 4,
 "nbformat_minor": 2,
 "cells": [
  {
   "source": [
    "# formats"
   ],
   "cell_type": "markdown",
   "metadata": {}
  },
  {
   "cell_type": "code",
   "execution_count": 2,
   "metadata": {},
   "outputs": [],
   "source": [
    "from os import path\n",
    "from pydub import AudioSegment\n",
    "\n",
    "def convert_mp3_to_wave(src,dst):                                                         \n",
    "    sound = AudioSegment.from_mp3(src)\n",
    "    sound.export(dst, format=\"wav\")"
   ]
  },
  {
   "cell_type": "code",
   "execution_count": 3,
   "metadata": {},
   "outputs": [],
   "source": [
    "\n",
    "# files                                                                         \n",
    "m_mp3 = \"audios/male_voice.mp3\"\n",
    "m_wav = \"audios/male_voice.wav\"\n",
    "fe_mp3 = \"audios/female_voice.mp3\"\n",
    "fe_wav = \"audios/female_voice.wav\"\n",
    "\n",
    "convert_mp3_to_wave(m_mp3,m_wav)"
   ]
  },
  {
   "source": [
    "# mixing"
   ],
   "cell_type": "markdown",
   "metadata": {}
  },
  {
   "cell_type": "code",
   "execution_count": 4,
   "metadata": {},
   "outputs": [],
   "source": [
    "# import required library\n",
    "from pydub import AudioSegment, effects\n",
    "from pydub.playback import play \n",
    "\n",
    "def describe_wave(wav_file):\n",
    "    # To find frame rate of song/file\n",
    "    print('frame_rate: ',wav_file.frame_rate)\n",
    "    # Find Maximum amplitude\n",
    "    print('maximum amplitude: ',wav_file.max)\n",
    "    # To know length of audio file\n",
    "    print('length of file: ',len(wav_file))\n"
   ]
  },
  {
   "cell_type": "code",
   "execution_count": 5,
   "metadata": {},
   "outputs": [
    {
     "output_type": "stream",
     "name": "stdout",
     "text": [
      "frame_rate:  22050\nmaximum amplitude:  32393\nlength of file:  2116\nframe_rate:  22050\nmaximum amplitude:  32393\nlength of file:  1933\n"
     ]
    }
   ],
   "source": [
    "# import the audio file\n",
    "m_wav_audio = AudioSegment.from_file(file=m_wav, format=\"wav\")\n",
    "fe_wav_audio = AudioSegment.from_file(file=fe_wav, format=\"wav\")\n",
    "normalized_m_wav_audio = effects.normalize(m_wav_audio)\n",
    "normalized_fe_wav_audio = effects.normalize(fe_wav_audio)\n",
    "\n",
    "describe_wave(normalized_m_wav_audio)\n",
    "describe_wave(normalized_fe_wav_audio)"
   ]
  },
  {
   "cell_type": "code",
   "execution_count": 30,
   "metadata": {},
   "outputs": [],
   "source": [
    "def mix_audio(au1,au2):\n",
    "    output = effects.normalize(au1.overlay(au2))\n",
    "    return output"
   ]
  },
  {
   "cell_type": "code",
   "execution_count": 29,
   "metadata": {},
   "outputs": [
    {
     "output_type": "stream",
     "name": "stdout",
     "text": [
      "frame_rate:  22050\nmaximum amplitude:  32393\nlength of file:  1933\nframe_rate:  22050\nmaximum amplitude:  32393\nlength of file:  1933\nframe_rate:  22050\nmaximum amplitude:  32393\nlength of file:  1933\nframe_rate:  22050\nmaximum amplitude:  32393\nlength of file:  1933\nframe_rate:  22050\nmaximum amplitude:  32393\nlength of file:  1933\nframe_rate:  22050\nmaximum amplitude:  32393\nlength of file:  1933\nframe_rate:  22050\nmaximum amplitude:  32393\nlength of file:  1933\nframe_rate:  22050\nmaximum amplitude:  32393\nlength of file:  1933\nframe_rate:  22050\nmaximum amplitude:  32393\nlength of file:  1933\nframe_rate:  22050\nmaximum amplitude:  32393\nlength of file:  1933\nframe_rate:  22050\nmaximum amplitude:  32393\nlength of file:  1933\nframe_rate:  22050\nmaximum amplitude:  32393\nlength of file:  1933\nframe_rate:  22050\nmaximum amplitude:  32393\nlength of file:  1933\nframe_rate:  22050\nmaximum amplitude:  32393\nlength of file:  1933\nframe_rate:  22050\nmaximum amplitude:  32393\nlength of file:  1933\nframe_rate:  22050\nmaximum amplitude:  32393\nlength of file:  1933\nframe_rate:  22050\nmaximum amplitude:  32393\nlength of file:  1933\nframe_rate:  22050\nmaximum amplitude:  32393\nlength of file:  1933\nframe_rate:  22050\nmaximum amplitude:  32393\nlength of file:  1933\nframe_rate:  22050\nmaximum amplitude:  32393\nlength of file:  1933\nframe_rate:  22050\nmaximum amplitude:  32393\nlength of file:  1933\n"
     ]
    }
   ],
   "source": [
    "for i in range(20+1):\n",
    "    c = 10-i\n",
    "    res = mix_audio(normalized_fe_wav_audio-c,normalized_m_wav_audio+c)\n",
    "    res.export(os.path.join(\"audios\",\"merged\",f\"female{-c:+d}male{c:+d}.wav\"),format=\"wav\")"
   ]
  },
  {
   "cell_type": "code",
   "execution_count": null,
   "metadata": {},
   "outputs": [],
   "source": []
  }
 ]
}