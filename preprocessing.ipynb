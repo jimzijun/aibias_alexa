{
 "metadata": {
  "language_info": {
   "codemirror_mode": {
    "name": "ipython",
    "version": 3
   },
   "file_extension": ".py",
   "mimetype": "text/x-python",
   "name": "python",
   "nbconvert_exporter": "python",
   "pygments_lexer": "ipython3",
   "version": "3.7.3"
  },
  "orig_nbformat": 2,
  "kernelspec": {
   "name": "python3",
   "display_name": "Python 3.7.3 64-bit ('base': conda)"
  },
  "metadata": {
   "interpreter": {
    "hash": "d6be581d66d6041584e8891c467237f97011dc2651abe3e7807bbb1a74ce6485"
   }
  },
  "interpreter": {
   "hash": "d6be581d66d6041584e8891c467237f97011dc2651abe3e7807bbb1a74ce6485"
  }
 },
 "nbformat": 4,
 "nbformat_minor": 2,
 "cells": [
  {
   "cell_type": "code",
   "execution_count": 10,
   "metadata": {},
   "outputs": [],
   "source": [
    "from os import path\n",
    "from pydub import AudioSegment, effects\n",
    "from pydub.playback import play"
   ]
  },
  {
   "cell_type": "code",
   "execution_count": 11,
   "metadata": {},
   "outputs": [],
   "source": [
    "def describe_audio(raw,name):\n",
    "   print(f'====={name}=====')\n",
    "   # To find frame rate of song/file\n",
    "   print('frame_rate: ',raw.frame_rate)\n",
    "   # Find Maximum amplitude\n",
    "   print('maximum amplitude: ',raw.max)\n",
    "   # To know length of audio file\n",
    "   print('length of file: ',len(raw))\n",
    "\n",
    "def load_audio(name):\n",
    "   raw = AudioSegment.from_file(file=os.path.join('audios/bootstrap',name+'.pcm'), format=\"pcm\", frame_rate = 16000, channels = 1, sample_width = 2)\n",
    "   n_raw = effects.normalize(raw)\n",
    "   describe_audio(n_raw,name)\n",
    "   return n_raw\n",
    "\n",
    "def mix_audio(au1,au2):\n",
    "    output = effects.normalize(au1.overlay(au2))\n",
    "    return output\n",
    "\n",
    "def generate_mixed_audio(lhs,rhs):\n",
    "    if os.getcwd() != '/home/zyi103/aibias_alexa':\n",
    "        print('WRONG DIRECTORY')\n",
    "        return None\n",
    "    if not os.path.exists(os.path.join('audios',f'{lhs}_{rhs}')):\n",
    "        os.mkdir(os.path.join('audios',f'{lhs}_{rhs}'))\n",
    "    root_path = os.path.join('audios',f'{lhs}_{rhs}')\n",
    "\n",
    "    lhs_audio,rhs_audio = load_audio(lhs),load_audio(rhs)\n",
    "\n",
    "    for i in range(-9,10):\n",
    "        if i < 0:\n",
    "            mixed_audio = mix_audio(lhs_audio,rhs_audio+i)\n",
    "            mixed_audio.export(os.path.join(root_path,f\"{lhs}_{rhs}{i:d}.pcm\"),format=\"s16le\")\n",
    "        else:\n",
    "            mixed_audio = mix_audio(lhs_audio-i,rhs_audio)\n",
    "            mixed_audio.export(os.path.join(root_path,f\"{lhs}_{rhs}{i:+d}.pcm\"),format=\"s16le\")    \n"
   ]
  },
  {
   "cell_type": "code",
   "execution_count": 12,
   "metadata": {},
   "outputs": [],
   "source": [
    "# files                                                                         \n",
    "fg = \"female_garage\"\n",
    "fk = \"female_kitchen\"\n",
    "mg = \"male_garage\"\n",
    "mk = \"male_kitchen\"\n"
   ]
  },
  {
   "cell_type": "code",
   "execution_count": 15,
   "metadata": {},
   "outputs": [
    {
     "output_type": "stream",
     "name": "stdout",
     "text": [
      "=====male_garage=====\nframe_rate:  16000\nmaximum amplitude:  32393\nlength of file:  2056\n=====female_kitchen=====\nframe_rate:  16000\nmaximum amplitude:  32393\nlength of file:  1864\n"
     ]
    }
   ],
   "source": [
    "generate_mixed_audio(mg,fk)"
   ]
  },
  {
   "cell_type": "code",
   "execution_count": null,
   "metadata": {},
   "outputs": [],
   "source": []
  }
 ]
}