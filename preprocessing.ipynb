{
 "metadata": {
  "language_info": {
   "codemirror_mode": {
    "name": "ipython",
    "version": 3
   },
   "file_extension": ".py",
   "mimetype": "text/x-python",
   "name": "python",
   "nbconvert_exporter": "python",
   "pygments_lexer": "ipython3",
   "version": "3.7.3"
  },
  "orig_nbformat": 2,
  "kernelspec": {
   "name": "python3",
   "display_name": "Python 3.7.3 64-bit ('base': conda)"
  },
  "metadata": {
   "interpreter": {
    "hash": "d6be581d66d6041584e8891c467237f97011dc2651abe3e7807bbb1a74ce6485"
   }
  },
  "interpreter": {
   "hash": "d6be581d66d6041584e8891c467237f97011dc2651abe3e7807bbb1a74ce6485"
  }
 },
 "nbformat": 4,
 "nbformat_minor": 2,
 "cells": [
  {
   "cell_type": "code",
   "execution_count": 122,
   "metadata": {},
   "outputs": [],
   "source": [
    "from os import path\n",
    "from pydub import AudioSegment, effects\n",
    "from pydub.playback import play\n",
    "\n",
    "def describe_audio(raw,name):\n",
    "   print(f'====={name}=====')\n",
    "   # To find frame rate of song/file\n",
    "   print('frame_rate: ',raw.frame_rate)\n",
    "   # Find Maximum amplitude\n",
    "   print('maximum amplitude: ',raw.max)\n",
    "   # To know length of audio file\n",
    "   print('length of file: ',len(raw))\n",
    "\n",
    "def load_audio(name):\n",
    "   raw = AudioSegment.from_file(file=os.path.join('audios/bootstrap',name+'.pcm'), format=\"pcm\", frame_rate = 16000, channels = 1, sample_width = 2)\n",
    "   n_raw = effects.normalize(raw)\n",
    "   describe_audio(n_raw,name)\n",
    "   return n_raw\n",
    "\n",
    "def mix_audio(au1,au2):\n",
    "    if len(au1) > len(au2): \n",
    "        output = au1.overlay(au2)\n",
    "    else:\n",
    "        output = au2.overlay(au1)\n",
    "    return output\n",
    "\n",
    "def generate_mixed_audio(lhs,rhs):\n",
    "    if os.getcwd() != '/home/zyi103/aibias_alexa':\n",
    "        print('WRONG DIRECTORY')\n",
    "        return None\n",
    "    if not os.path.exists(os.path.join('audios',f'{lhs}_{rhs}')):\n",
    "        os.mkdir(os.path.join('audios',f'{lhs}_{rhs}'))\n",
    "    root_path = os.path.join('audios',f'{lhs}_{rhs}')\n",
    "\n",
    "    lhs_audio,rhs_audio = load_audio(lhs),load_audio(rhs)\n",
    "\n",
    "    for i in range(-14,15,2):\n",
    "        if i < 0:\n",
    "            mixed_audio = mix_audio(lhs_audio,rhs_audio+i)\n",
    "            mixed_audio.export(os.path.join(root_path,f\"{lhs}_{rhs}{i:03d}.pcm\"),format=\"s16le\")\n",
    "        else:\n",
    "            mixed_audio = mix_audio(lhs_audio-i,rhs_audio)\n",
    "            mixed_audio.export(os.path.join(root_path,f\"{lhs}_{rhs}{i:+03d}.pcm\"),format=\"s16le\")    \n"
   ]
  },
  {
   "cell_type": "code",
   "execution_count": 141,
   "metadata": {},
   "outputs": [
    {
     "output_type": "execute_result",
     "data": {
      "text/plain": [
       "[-14, -12, -10, -8, -6, -4, -2, 0, 2, 4, 6, 8, 10, 12, 14]"
      ]
     },
     "metadata": {},
     "execution_count": 141
    }
   ],
   "source": [
    "list(range(-14,15,2))"
   ]
  },
  {
   "cell_type": "code",
   "execution_count": 126,
   "metadata": {},
   "outputs": [],
   "source": [
    "# files                                                                         \n",
    "fh = \"female_hairdresser\"\n",
    "fc = \"female_chemist\"\n",
    "mh = \"male_hairdresser\"\n",
    "mc = \"male_chemist\"\n",
    "fa = \"female_advisor\"\n",
    "ma = \"male_advisor\"\n",
    "\n",
    "fe = \"female_electrician\"\n",
    "me = \"male_electrician\""
   ]
  },
  {
   "cell_type": "code",
   "execution_count": 139,
   "metadata": {},
   "outputs": [
    {
     "output_type": "stream",
     "name": "stdout",
     "text": [
      "=====male_electrician=====\nframe_rate:  16000\nmaximum amplitude:  32392\nlength of file:  1925\n=====female_electrician=====\nframe_rate:  16000\nmaximum amplitude:  32393\nlength of file:  2063\n=====mixed=====\nframe_rate:  16000\nmaximum amplitude:  32768\nlength of file:  2063\n"
     ]
    }
   ],
   "source": [
    "me_a=load_audio(me)\n",
    "fe_a=load_audio(fe)\n",
    "mixed_a = mix_audio(me_a,fe_a-10)\n",
    "describe_audio(mixed_a,\"mixed\")"
   ]
  },
  {
   "cell_type": "code",
   "execution_count": 83,
   "metadata": {},
   "outputs": [],
   "source": [
    "play((mc).overlay(fh))"
   ]
  },
  {
   "cell_type": "code",
   "execution_count": 91,
   "metadata": {},
   "outputs": [],
   "source": [
    "play(mc.normalize())"
   ]
  },
  {
   "cell_type": "code",
   "execution_count": 96,
   "metadata": {},
   "outputs": [],
   "source": [
    "play(fh.overlay(mc-5))\n",
    "play(mc.overlay(fh-5))"
   ]
  },
  {
   "cell_type": "code",
   "execution_count": null,
   "metadata": {},
   "outputs": [],
   "source": []
  },
  {
   "cell_type": "code",
   "execution_count": 27,
   "metadata": {},
   "outputs": [
    {
     "output_type": "stream",
     "name": "stdout",
     "text": [
      "=====male_chemist=====\nframe_rate:  16000\nmaximum amplitude:  1025\nlength of file:  1013\n"
     ]
    }
   ],
   "source": [
    "describe_audio(mc-30,'male_chemist')"
   ]
  },
  {
   "cell_type": "code",
   "execution_count": 64,
   "metadata": {},
   "outputs": [
    {
     "output_type": "stream",
     "name": "stdout",
     "text": [
      "=====female_chemist=====\nframe_rate:  16000\nmaximum amplitude:  32393\nlength of file:  883\n"
     ]
    }
   ],
   "source": [
    "fc = load_audio('female_chemist')\n",
    "play(fc-30)"
   ]
  },
  {
   "cell_type": "code",
   "execution_count": null,
   "metadata": {},
   "outputs": [],
   "source": []
  }
 ]
}