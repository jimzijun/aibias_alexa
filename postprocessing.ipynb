{
 "metadata": {
  "language_info": {
   "codemirror_mode": {
    "name": "ipython",
    "version": 3
   },
   "file_extension": ".py",
   "mimetype": "text/x-python",
   "name": "python",
   "nbconvert_exporter": "python",
   "pygments_lexer": "ipython3",
   "version": "3.7.3"
  },
  "orig_nbformat": 4,
  "kernelspec": {
   "name": "python3",
   "display_name": "Python 3.7.3 64-bit ('base': conda)"
  },
  "interpreter": {
   "hash": "d6be581d66d6041584e8891c467237f97011dc2651abe3e7807bbb1a74ce6485"
  }
 },
 "nbformat": 4,
 "nbformat_minor": 2,
 "cells": [
  {
   "cell_type": "code",
   "execution_count": 1,
   "metadata": {},
   "outputs": [],
   "source": [
    "from configs import OCCUPATION_LIST\n",
    "from itertools import combinations\n",
    "import pandas as pd \n",
    "import random\n",
    "import numpy as np\n",
    "from scipy import interpolate\n",
    "from scipy.optimize import bisect\n",
    "\n",
    "def find_pse(occ):\n",
    "    df = pd.read_feather(f'data/{occ}.feather')\n",
    "    arr = np.array(df.changepoints)\n",
    "    return bisect(interpolate.interp1d(df['rank'], arr-0.5), min(df['rank']), max(df['rank']))\n"
   ]
  },
  {
   "cell_type": "code",
   "execution_count": 2,
   "metadata": {},
   "outputs": [],
   "source": [
    "occupation_combinations = list(combinations(OCCUPATION_LIST, 2))\n",
    "\n",
    "summary = {\n",
    "    \"occupation\":[],\n",
    "    \"ff_pse\":[],\n",
    "    \"mm_pse\":[],\n",
    "    \"fm_pse\":[],\n",
    "    \"mf_pse\":[]\n",
    "}\n",
    "\n",
    "for lhs, rhs in occupation_combinations:\n",
    "    summary['occupation'].append(f\"{lhs}_{rhs}\")\n",
    "\n",
    "    summary['ff_pse'].append(find_pse(f\"female_{lhs}_female_{rhs}\"))\n",
    "    summary['mm_pse'].append(find_pse(f\"male_{lhs}_male_{rhs}\"))\n",
    "    summary['fm_pse'].append(find_pse(f\"female_{lhs}_male_{rhs}\"))\n",
    "    summary['mf_pse'].append(find_pse(f\"male_{lhs}_female_{rhs}\"))\n",
    "\n"
   ]
  },
  {
   "cell_type": "code",
   "execution_count": 3,
   "metadata": {},
   "outputs": [],
   "source": [
    "summary_df = pd.DataFrame(summary)"
   ]
  },
  {
   "cell_type": "code",
   "execution_count": 10,
   "metadata": {},
   "outputs": [
    {
     "output_type": "execute_result",
     "data": {
      "text/plain": [
       "                 occupation  ff_pse  mm_pse  fm_pse  mf_pse\n",
       "0     technician_accountant    -1.0    -5.0    -4.0    -1.0\n",
       "1     technician_supervisor    -5.0    -5.0    -5.0     0.0\n",
       "2       technician_engineer    -1.0     1.0    -1.0     1.0\n",
       "3         technician_worker     3.0     3.5    -1.0     4.0\n",
       "4       technician_educator     0.0     2.0     7.0    -2.0\n",
       "...                     ...     ...     ...     ...     ...\n",
       "1220   programmer_hygienist    -3.5    -2.0    -3.5     1.0\n",
       "1221   programmer_scientist    -1.0    -3.5    -5.0     1.0\n",
       "1222    paralegal_hygienist   -11.0    -2.0    -4.0    -1.0\n",
       "1223    paralegal_scientist     0.0    -7.0    -5.0    -1.0\n",
       "1224    hygienist_scientist     1.0    -1.0    -4.0     1.0\n",
       "\n",
       "[1225 rows x 5 columns]"
      ],
      "text/html": "<div>\n<style scoped>\n    .dataframe tbody tr th:only-of-type {\n        vertical-align: middle;\n    }\n\n    .dataframe tbody tr th {\n        vertical-align: top;\n    }\n\n    .dataframe thead th {\n        text-align: right;\n    }\n</style>\n<table border=\"1\" class=\"dataframe\">\n  <thead>\n    <tr style=\"text-align: right;\">\n      <th></th>\n      <th>occupation</th>\n      <th>ff_pse</th>\n      <th>mm_pse</th>\n      <th>fm_pse</th>\n      <th>mf_pse</th>\n    </tr>\n  </thead>\n  <tbody>\n    <tr>\n      <th>0</th>\n      <td>technician_accountant</td>\n      <td>-1.0</td>\n      <td>-5.0</td>\n      <td>-4.0</td>\n      <td>-1.0</td>\n    </tr>\n    <tr>\n      <th>1</th>\n      <td>technician_supervisor</td>\n      <td>-5.0</td>\n      <td>-5.0</td>\n      <td>-5.0</td>\n      <td>0.0</td>\n    </tr>\n    <tr>\n      <th>2</th>\n      <td>technician_engineer</td>\n      <td>-1.0</td>\n      <td>1.0</td>\n      <td>-1.0</td>\n      <td>1.0</td>\n    </tr>\n    <tr>\n      <th>3</th>\n      <td>technician_worker</td>\n      <td>3.0</td>\n      <td>3.5</td>\n      <td>-1.0</td>\n      <td>4.0</td>\n    </tr>\n    <tr>\n      <th>4</th>\n      <td>technician_educator</td>\n      <td>0.0</td>\n      <td>2.0</td>\n      <td>7.0</td>\n      <td>-2.0</td>\n    </tr>\n    <tr>\n      <th>...</th>\n      <td>...</td>\n      <td>...</td>\n      <td>...</td>\n      <td>...</td>\n      <td>...</td>\n    </tr>\n    <tr>\n      <th>1220</th>\n      <td>programmer_hygienist</td>\n      <td>-3.5</td>\n      <td>-2.0</td>\n      <td>-3.5</td>\n      <td>1.0</td>\n    </tr>\n    <tr>\n      <th>1221</th>\n      <td>programmer_scientist</td>\n      <td>-1.0</td>\n      <td>-3.5</td>\n      <td>-5.0</td>\n      <td>1.0</td>\n    </tr>\n    <tr>\n      <th>1222</th>\n      <td>paralegal_hygienist</td>\n      <td>-11.0</td>\n      <td>-2.0</td>\n      <td>-4.0</td>\n      <td>-1.0</td>\n    </tr>\n    <tr>\n      <th>1223</th>\n      <td>paralegal_scientist</td>\n      <td>0.0</td>\n      <td>-7.0</td>\n      <td>-5.0</td>\n      <td>-1.0</td>\n    </tr>\n    <tr>\n      <th>1224</th>\n      <td>hygienist_scientist</td>\n      <td>1.0</td>\n      <td>-1.0</td>\n      <td>-4.0</td>\n      <td>1.0</td>\n    </tr>\n  </tbody>\n</table>\n<p>1225 rows × 5 columns</p>\n</div>"
     },
     "metadata": {},
     "execution_count": 10
    }
   ],
   "source": [
    "summary_df"
   ]
  },
  {
   "source": [
    "```\n",
    "wl - wr + wgl - wgr = -pse\n",
    "wl - wr + wgl - wgr = -pse\n",
    "wl - wr + wgl - wgr = -pse\n",
    "wl - wr + wgl - wgr = -pse\n",
    "\n",
    "t - a + fp - fh = 11\n",
    "t - a + mp - mh = 2\n",
    "t - a + fp - mh = 4\n",
    "t - a + mp - fh = 1\n",
    "\n",
    "\n",
    "fh - mh = 7\n",
    "fh - mh = -1 \n",
    "mp - fp = -2\n",
    "mp - fp = -10\n",
    "```\n"
   ],
   "cell_type": "markdown",
   "metadata": {}
  },
  {
   "source": [],
   "cell_type": "markdown",
   "metadata": {}
  },
  {
   "cell_type": "code",
   "execution_count": 5,
   "metadata": {},
   "outputs": [],
   "source": [
    "from numpy.linalg import inv\n"
   ]
  },
  {
   "cell_type": "code",
   "execution_count": 7,
   "metadata": {},
   "outputs": [
    {
     "output_type": "execute_result",
     "data": {
      "text/plain": [
       "array([[-2. ,  1. ],\n",
       "       [ 1.5, -0.5]])"
      ]
     },
     "metadata": {},
     "execution_count": 7
    }
   ],
   "source": [
    "a = np.array([[1,2],[3,4]])\n"
   ]
  },
  {
   "cell_type": "code",
   "execution_count": 27,
   "metadata": {},
   "outputs": [],
   "source": [
    "summary_df['right_word_bias'] = (summary_df['fm_pse']-summary_df['ff_pse']+summary_df['mm_pse']-summary_df['mf_pse'])/2\n",
    "summary_df['left_word_bias'] = (summary_df['ff_pse']-summary_df['mf_pse']+summary_df['fm_pse']-summary_df['mm_pse'])/2\n"
   ]
  },
  {
   "cell_type": "code",
   "execution_count": 28,
   "metadata": {},
   "outputs": [],
   "source": [
    "summary_df['right_word'] = summary_df['occupation'].apply(lambda x:x.split('_')[1])\n",
    "summary_df['left_word'] = summary_df['occupation'].apply(lambda x:x.split('_')[0])\n"
   ]
  },
  {
   "cell_type": "code",
   "execution_count": 29,
   "metadata": {},
   "outputs": [
    {
     "output_type": "execute_result",
     "data": {
      "text/plain": [
       "                   bias\n",
       "words                  \n",
       "clerk         -5.688776\n",
       "scientist     -3.801020\n",
       "architect     -3.790816\n",
       "worker        -3.604592\n",
       "plumber       -3.436224\n",
       "veterinarian  -2.839286\n",
       "surgeon       -2.331633\n",
       "examiner      -2.329082\n",
       "salesperson   -2.250000\n",
       "paralegal     -2.028061\n",
       "programmer    -1.905612\n",
       "hairdresser   -1.581633\n",
       "advisor       -1.326531\n",
       "pharmacist    -1.137755\n",
       "lawyer        -1.030612\n",
       "technician    -0.982143\n",
       "receptionist  -0.903061\n",
       "appraiser     -0.872449\n",
       "supervisor    -0.867347\n",
       "carpenter     -0.836735\n",
       "accountant    -0.673469\n",
       "practitioner  -0.632653\n",
       "counselor     -0.558673\n",
       "psychologist  -0.420918\n",
       "paramedic     -0.311224\n",
       "specialist    -0.239796\n",
       "planner       -0.173469\n",
       "librarian     -0.066327\n",
       "investigator   0.033163\n",
       "administrator  0.084184\n",
       "chemist        0.346939\n",
       "nurse          0.385204\n",
       "engineer       0.494898\n",
       "nutritionist   0.551020\n",
       "hygienist      0.591837\n",
       "mechanic       0.609694\n",
       "officer        0.676020\n",
       "pathologist    0.693878\n",
       "instructor     0.946429\n",
       "educator       1.076531\n",
       "baker          1.096939\n",
       "therapist      1.170918\n",
       "physician      1.395408\n",
       "bartender      1.903061\n",
       "inspector      2.283163\n",
       "machinist      2.316327\n",
       "manager        2.334184\n",
       "electrician    2.591837\n",
       "janitor        2.750000\n",
       "teacher        4.211735"
      ],
      "text/html": "<div>\n<style scoped>\n    .dataframe tbody tr th:only-of-type {\n        vertical-align: middle;\n    }\n\n    .dataframe tbody tr th {\n        vertical-align: top;\n    }\n\n    .dataframe thead th {\n        text-align: right;\n    }\n</style>\n<table border=\"1\" class=\"dataframe\">\n  <thead>\n    <tr style=\"text-align: right;\">\n      <th></th>\n      <th>bias</th>\n    </tr>\n    <tr>\n      <th>words</th>\n      <th></th>\n    </tr>\n  </thead>\n  <tbody>\n    <tr>\n      <th>clerk</th>\n      <td>-5.688776</td>\n    </tr>\n    <tr>\n      <th>scientist</th>\n      <td>-3.801020</td>\n    </tr>\n    <tr>\n      <th>architect</th>\n      <td>-3.790816</td>\n    </tr>\n    <tr>\n      <th>worker</th>\n      <td>-3.604592</td>\n    </tr>\n    <tr>\n      <th>plumber</th>\n      <td>-3.436224</td>\n    </tr>\n    <tr>\n      <th>veterinarian</th>\n      <td>-2.839286</td>\n    </tr>\n    <tr>\n      <th>surgeon</th>\n      <td>-2.331633</td>\n    </tr>\n    <tr>\n      <th>examiner</th>\n      <td>-2.329082</td>\n    </tr>\n    <tr>\n      <th>salesperson</th>\n      <td>-2.250000</td>\n    </tr>\n    <tr>\n      <th>paralegal</th>\n      <td>-2.028061</td>\n    </tr>\n    <tr>\n      <th>programmer</th>\n      <td>-1.905612</td>\n    </tr>\n    <tr>\n      <th>hairdresser</th>\n      <td>-1.581633</td>\n    </tr>\n    <tr>\n      <th>advisor</th>\n      <td>-1.326531</td>\n    </tr>\n    <tr>\n      <th>pharmacist</th>\n      <td>-1.137755</td>\n    </tr>\n    <tr>\n      <th>lawyer</th>\n      <td>-1.030612</td>\n    </tr>\n    <tr>\n      <th>technician</th>\n      <td>-0.982143</td>\n    </tr>\n    <tr>\n      <th>receptionist</th>\n      <td>-0.903061</td>\n    </tr>\n    <tr>\n      <th>appraiser</th>\n      <td>-0.872449</td>\n    </tr>\n    <tr>\n      <th>supervisor</th>\n      <td>-0.867347</td>\n    </tr>\n    <tr>\n      <th>carpenter</th>\n      <td>-0.836735</td>\n    </tr>\n    <tr>\n      <th>accountant</th>\n      <td>-0.673469</td>\n    </tr>\n    <tr>\n      <th>practitioner</th>\n      <td>-0.632653</td>\n    </tr>\n    <tr>\n      <th>counselor</th>\n      <td>-0.558673</td>\n    </tr>\n    <tr>\n      <th>psychologist</th>\n      <td>-0.420918</td>\n    </tr>\n    <tr>\n      <th>paramedic</th>\n      <td>-0.311224</td>\n    </tr>\n    <tr>\n      <th>specialist</th>\n      <td>-0.239796</td>\n    </tr>\n    <tr>\n      <th>planner</th>\n      <td>-0.173469</td>\n    </tr>\n    <tr>\n      <th>librarian</th>\n      <td>-0.066327</td>\n    </tr>\n    <tr>\n      <th>investigator</th>\n      <td>0.033163</td>\n    </tr>\n    <tr>\n      <th>administrator</th>\n      <td>0.084184</td>\n    </tr>\n    <tr>\n      <th>chemist</th>\n      <td>0.346939</td>\n    </tr>\n    <tr>\n      <th>nurse</th>\n      <td>0.385204</td>\n    </tr>\n    <tr>\n      <th>engineer</th>\n      <td>0.494898</td>\n    </tr>\n    <tr>\n      <th>nutritionist</th>\n      <td>0.551020</td>\n    </tr>\n    <tr>\n      <th>hygienist</th>\n      <td>0.591837</td>\n    </tr>\n    <tr>\n      <th>mechanic</th>\n      <td>0.609694</td>\n    </tr>\n    <tr>\n      <th>officer</th>\n      <td>0.676020</td>\n    </tr>\n    <tr>\n      <th>pathologist</th>\n      <td>0.693878</td>\n    </tr>\n    <tr>\n      <th>instructor</th>\n      <td>0.946429</td>\n    </tr>\n    <tr>\n      <th>educator</th>\n      <td>1.076531</td>\n    </tr>\n    <tr>\n      <th>baker</th>\n      <td>1.096939</td>\n    </tr>\n    <tr>\n      <th>therapist</th>\n      <td>1.170918</td>\n    </tr>\n    <tr>\n      <th>physician</th>\n      <td>1.395408</td>\n    </tr>\n    <tr>\n      <th>bartender</th>\n      <td>1.903061</td>\n    </tr>\n    <tr>\n      <th>inspector</th>\n      <td>2.283163</td>\n    </tr>\n    <tr>\n      <th>machinist</th>\n      <td>2.316327</td>\n    </tr>\n    <tr>\n      <th>manager</th>\n      <td>2.334184</td>\n    </tr>\n    <tr>\n      <th>electrician</th>\n      <td>2.591837</td>\n    </tr>\n    <tr>\n      <th>janitor</th>\n      <td>2.750000</td>\n    </tr>\n    <tr>\n      <th>teacher</th>\n      <td>4.211735</td>\n    </tr>\n  </tbody>\n</table>\n</div>"
     },
     "metadata": {},
     "execution_count": 29
    }
   ],
   "source": [
    "words = summary_df['right_word'].append(summary_df['left_word'])\n",
    "bias = summary_df['right_word_bias'].append(summary_df['left_word_bias'])\n",
    "bias_df = pd.DataFrame({\"words\": words, \"bias\":bias})\n",
    "bias_df.groupby(\"words\").mean().sort_values(\"bias\")"
   ]
  },
  {
   "cell_type": "code",
   "execution_count": 35,
   "metadata": {},
   "outputs": [],
   "source": [
    "tmp = pd.read_csv('professionsBLS2015.tab',delimiter=\"\\t\").sort_values('TotalEmployed')"
   ]
  },
  {
   "cell_type": "code",
   "execution_count": 45,
   "metadata": {},
   "outputs": [
    {
     "output_type": "execute_result",
     "data": {
      "text/plain": [
       "     TotalEmployed  Women  AfricanAmerican  Asian  HispanicLatino  none  \\\n",
       "30              50    3.5             21.3    1.4             8.2   NaN   \n",
       "62              51    9.4             14.2    5.5            21.5   NaN   \n",
       "21              51    2.8             10.4    0.0            11.0   NaN   \n",
       "65              51   10.3             11.5    0.2            29.0   NaN   \n",
       "56              52    7.7             18.6    1.7             2.1   NaN   \n",
       "..             ...    ...              ...    ...             ...   ...   \n",
       "111          17647   21.8             15.3    4.7            22.3   NaN   \n",
       "287          17897   72.2             13.9    4.7            15.6   NaN   \n",
       "227          25896   56.7             16.8    5.4            23.5   NaN   \n",
       "255          33598   61.5             12.3    5.2            15.3   NaN   \n",
       "230          33852   57.2              9.8    8.7             8.8   NaN   \n",
       "\n",
       "        label1      label2  label3 label4 label5  \n",
       "30    engineer    operator     NaN    NaN    NaN  \n",
       "62    operator         NaN     NaN    NaN    NaN  \n",
       "21      worker         NaN     NaN    NaN    NaN  \n",
       "65    operator      setter  tender    NaN    NaN  \n",
       "56   conductor  yardmaster     NaN    NaN    NaN  \n",
       "..         ...         ...     ...    ...    ...  \n",
       "111        NaN         NaN     NaN    NaN    NaN  \n",
       "287        NaN         NaN     NaN    NaN    NaN  \n",
       "227        NaN         NaN     NaN    NaN    NaN  \n",
       "255        NaN         NaN     NaN    NaN    NaN  \n",
       "230        NaN         NaN     NaN    NaN    NaN  \n",
       "\n",
       "[358 rows x 11 columns]"
      ],
      "text/html": "<div>\n<style scoped>\n    .dataframe tbody tr th:only-of-type {\n        vertical-align: middle;\n    }\n\n    .dataframe tbody tr th {\n        vertical-align: top;\n    }\n\n    .dataframe thead th {\n        text-align: right;\n    }\n</style>\n<table border=\"1\" class=\"dataframe\">\n  <thead>\n    <tr style=\"text-align: right;\">\n      <th></th>\n      <th>TotalEmployed</th>\n      <th>Women</th>\n      <th>AfricanAmerican</th>\n      <th>Asian</th>\n      <th>HispanicLatino</th>\n      <th>none</th>\n      <th>label1</th>\n      <th>label2</th>\n      <th>label3</th>\n      <th>label4</th>\n      <th>label5</th>\n    </tr>\n  </thead>\n  <tbody>\n    <tr>\n      <th>30</th>\n      <td>50</td>\n      <td>3.5</td>\n      <td>21.3</td>\n      <td>1.4</td>\n      <td>8.2</td>\n      <td>NaN</td>\n      <td>engineer</td>\n      <td>operator</td>\n      <td>NaN</td>\n      <td>NaN</td>\n      <td>NaN</td>\n    </tr>\n    <tr>\n      <th>62</th>\n      <td>51</td>\n      <td>9.4</td>\n      <td>14.2</td>\n      <td>5.5</td>\n      <td>21.5</td>\n      <td>NaN</td>\n      <td>operator</td>\n      <td>NaN</td>\n      <td>NaN</td>\n      <td>NaN</td>\n      <td>NaN</td>\n    </tr>\n    <tr>\n      <th>21</th>\n      <td>51</td>\n      <td>2.8</td>\n      <td>10.4</td>\n      <td>0.0</td>\n      <td>11.0</td>\n      <td>NaN</td>\n      <td>worker</td>\n      <td>NaN</td>\n      <td>NaN</td>\n      <td>NaN</td>\n      <td>NaN</td>\n    </tr>\n    <tr>\n      <th>65</th>\n      <td>51</td>\n      <td>10.3</td>\n      <td>11.5</td>\n      <td>0.2</td>\n      <td>29.0</td>\n      <td>NaN</td>\n      <td>operator</td>\n      <td>setter</td>\n      <td>tender</td>\n      <td>NaN</td>\n      <td>NaN</td>\n    </tr>\n    <tr>\n      <th>56</th>\n      <td>52</td>\n      <td>7.7</td>\n      <td>18.6</td>\n      <td>1.7</td>\n      <td>2.1</td>\n      <td>NaN</td>\n      <td>conductor</td>\n      <td>yardmaster</td>\n      <td>NaN</td>\n      <td>NaN</td>\n      <td>NaN</td>\n    </tr>\n    <tr>\n      <th>...</th>\n      <td>...</td>\n      <td>...</td>\n      <td>...</td>\n      <td>...</td>\n      <td>...</td>\n      <td>...</td>\n      <td>...</td>\n      <td>...</td>\n      <td>...</td>\n      <td>...</td>\n      <td>...</td>\n    </tr>\n    <tr>\n      <th>111</th>\n      <td>17647</td>\n      <td>21.8</td>\n      <td>15.3</td>\n      <td>4.7</td>\n      <td>22.3</td>\n      <td>NaN</td>\n      <td>NaN</td>\n      <td>NaN</td>\n      <td>NaN</td>\n      <td>NaN</td>\n      <td>NaN</td>\n    </tr>\n    <tr>\n      <th>287</th>\n      <td>17897</td>\n      <td>72.2</td>\n      <td>13.9</td>\n      <td>4.7</td>\n      <td>15.6</td>\n      <td>NaN</td>\n      <td>NaN</td>\n      <td>NaN</td>\n      <td>NaN</td>\n      <td>NaN</td>\n      <td>NaN</td>\n    </tr>\n    <tr>\n      <th>227</th>\n      <td>25896</td>\n      <td>56.7</td>\n      <td>16.8</td>\n      <td>5.4</td>\n      <td>23.5</td>\n      <td>NaN</td>\n      <td>NaN</td>\n      <td>NaN</td>\n      <td>NaN</td>\n      <td>NaN</td>\n      <td>NaN</td>\n    </tr>\n    <tr>\n      <th>255</th>\n      <td>33598</td>\n      <td>61.5</td>\n      <td>12.3</td>\n      <td>5.2</td>\n      <td>15.3</td>\n      <td>NaN</td>\n      <td>NaN</td>\n      <td>NaN</td>\n      <td>NaN</td>\n      <td>NaN</td>\n      <td>NaN</td>\n    </tr>\n    <tr>\n      <th>230</th>\n      <td>33852</td>\n      <td>57.2</td>\n      <td>9.8</td>\n      <td>8.7</td>\n      <td>8.8</td>\n      <td>NaN</td>\n      <td>NaN</td>\n      <td>NaN</td>\n      <td>NaN</td>\n      <td>NaN</td>\n      <td>NaN</td>\n    </tr>\n  </tbody>\n</table>\n<p>358 rows × 11 columns</p>\n</div>"
     },
     "metadata": {},
     "execution_count": 45
    }
   ],
   "source": [
    "tmp[['Woman', 'label1']].merge()"
   ]
  },
  {
   "cell_type": "code",
   "execution_count": 64,
   "metadata": {},
   "outputs": [],
   "source": [
    "tmp2 = bias_df.groupby(\"words\").mean().sort_values(\"bias\").copy()\n",
    "tmp2['label1'] = tmp2.index\n",
    "tmp2 = tmp2.reset_index(drop = True) \n",
    "\n",
    "tmp3 = tmp[['label1', 'Women']].merge(tmp2, how = 'inner', on = 'label1').groupby('label1').mean()"
   ]
  },
  {
   "cell_type": "code",
   "execution_count": 69,
   "metadata": {},
   "outputs": [],
   "source": [
    "from scipy.stats import pearsonr, spearmanr"
   ]
  },
  {
   "cell_type": "code",
   "execution_count": 77,
   "metadata": {},
   "outputs": [
    {
     "output_type": "execute_result",
     "data": {
      "text/plain": [
       "SpearmanrResult(correlation=0.15483825537079976, pvalue=0.3155802218202704)"
      ]
     },
     "metadata": {},
     "execution_count": 77
    }
   ],
   "source": [
    "spearmanr(tmp3['Women'].apply(lambda x: int(x > 0)*abs(x - 50)), tmp3['bias'])"
   ]
  },
  {
   "cell_type": "code",
   "execution_count": 73,
   "metadata": {},
   "outputs": [
    {
     "output_type": "execute_result",
     "data": {
      "text/plain": [
       "                   Women      bias\n",
       "label1                            \n",
       "accountant     59.700000 -0.673469\n",
       "administrator  39.866667  0.084184\n",
       "advisor        37.900000 -1.326531\n",
       "appraiser      39.300000 -0.872449\n",
       "architect      18.900000 -3.790816\n",
       "baker          60.800000  1.096939\n",
       "bartender      59.800000  1.903061\n",
       "carpenter       1.800000 -0.836735\n",
       "chemist        36.100000  0.346939\n",
       "clerk          67.955556 -5.688776\n",
       "counselor      63.000000 -0.558673\n",
       "electrician     2.300000  2.591837\n",
       "engineer       10.436364  0.494898\n",
       "examiner       65.500000 -2.329082\n",
       "hairdresser    94.200000 -1.581633\n",
       "hygienist      96.400000  0.591837\n",
       "inspector      23.600000  2.283163\n",
       "janitor        34.300000  2.750000\n",
       "lawyer         34.500000 -1.030612\n",
       "librarian      83.000000 -0.066327\n",
       "machinist       6.700000  2.316327\n",
       "manager        41.525000  2.334184\n",
       "mechanic        1.733333  0.609694\n",
       "nurse          90.100000  0.385204\n",
       "officer        39.333333  0.676020\n",
       "paralegal      85.400000 -2.028061\n",
       "paramedic      32.900000 -0.311224\n",
       "pathologist    98.600000  0.693878\n",
       "pharmacist     57.000000 -1.137755\n",
       "physician      37.900000  1.395408\n",
       "planner        78.600000 -0.173469\n",
       "practitioner   52.700000 -0.632653\n",
       "programmer     12.450000 -1.905612\n",
       "psychologist   70.300000 -0.420918\n",
       "receptionist   90.600000 -0.903061\n",
       "salesperson    30.900000 -2.250000\n",
       "scientist      48.150000 -3.801020\n",
       "specialist     57.842857 -0.239796\n",
       "supervisor     31.118750 -0.867347\n",
       "teacher        72.166667  4.211735\n",
       "technician     34.100000 -0.982143\n",
       "therapist      77.140000  1.170918\n",
       "veterinarian   60.500000 -2.839286\n",
       "worker         37.514706 -3.604592"
      ],
      "text/html": "<div>\n<style scoped>\n    .dataframe tbody tr th:only-of-type {\n        vertical-align: middle;\n    }\n\n    .dataframe tbody tr th {\n        vertical-align: top;\n    }\n\n    .dataframe thead th {\n        text-align: right;\n    }\n</style>\n<table border=\"1\" class=\"dataframe\">\n  <thead>\n    <tr style=\"text-align: right;\">\n      <th></th>\n      <th>Women</th>\n      <th>bias</th>\n    </tr>\n    <tr>\n      <th>label1</th>\n      <th></th>\n      <th></th>\n    </tr>\n  </thead>\n  <tbody>\n    <tr>\n      <th>accountant</th>\n      <td>59.700000</td>\n      <td>-0.673469</td>\n    </tr>\n    <tr>\n      <th>administrator</th>\n      <td>39.866667</td>\n      <td>0.084184</td>\n    </tr>\n    <tr>\n      <th>advisor</th>\n      <td>37.900000</td>\n      <td>-1.326531</td>\n    </tr>\n    <tr>\n      <th>appraiser</th>\n      <td>39.300000</td>\n      <td>-0.872449</td>\n    </tr>\n    <tr>\n      <th>architect</th>\n      <td>18.900000</td>\n      <td>-3.790816</td>\n    </tr>\n    <tr>\n      <th>baker</th>\n      <td>60.800000</td>\n      <td>1.096939</td>\n    </tr>\n    <tr>\n      <th>bartender</th>\n      <td>59.800000</td>\n      <td>1.903061</td>\n    </tr>\n    <tr>\n      <th>carpenter</th>\n      <td>1.800000</td>\n      <td>-0.836735</td>\n    </tr>\n    <tr>\n      <th>chemist</th>\n      <td>36.100000</td>\n      <td>0.346939</td>\n    </tr>\n    <tr>\n      <th>clerk</th>\n      <td>67.955556</td>\n      <td>-5.688776</td>\n    </tr>\n    <tr>\n      <th>counselor</th>\n      <td>63.000000</td>\n      <td>-0.558673</td>\n    </tr>\n    <tr>\n      <th>electrician</th>\n      <td>2.300000</td>\n      <td>2.591837</td>\n    </tr>\n    <tr>\n      <th>engineer</th>\n      <td>10.436364</td>\n      <td>0.494898</td>\n    </tr>\n    <tr>\n      <th>examiner</th>\n      <td>65.500000</td>\n      <td>-2.329082</td>\n    </tr>\n    <tr>\n      <th>hairdresser</th>\n      <td>94.200000</td>\n      <td>-1.581633</td>\n    </tr>\n    <tr>\n      <th>hygienist</th>\n      <td>96.400000</td>\n      <td>0.591837</td>\n    </tr>\n    <tr>\n      <th>inspector</th>\n      <td>23.600000</td>\n      <td>2.283163</td>\n    </tr>\n    <tr>\n      <th>janitor</th>\n      <td>34.300000</td>\n      <td>2.750000</td>\n    </tr>\n    <tr>\n      <th>lawyer</th>\n      <td>34.500000</td>\n      <td>-1.030612</td>\n    </tr>\n    <tr>\n      <th>librarian</th>\n      <td>83.000000</td>\n      <td>-0.066327</td>\n    </tr>\n    <tr>\n      <th>machinist</th>\n      <td>6.700000</td>\n      <td>2.316327</td>\n    </tr>\n    <tr>\n      <th>manager</th>\n      <td>41.525000</td>\n      <td>2.334184</td>\n    </tr>\n    <tr>\n      <th>mechanic</th>\n      <td>1.733333</td>\n      <td>0.609694</td>\n    </tr>\n    <tr>\n      <th>nurse</th>\n      <td>90.100000</td>\n      <td>0.385204</td>\n    </tr>\n    <tr>\n      <th>officer</th>\n      <td>39.333333</td>\n      <td>0.676020</td>\n    </tr>\n    <tr>\n      <th>paralegal</th>\n      <td>85.400000</td>\n      <td>-2.028061</td>\n    </tr>\n    <tr>\n      <th>paramedic</th>\n      <td>32.900000</td>\n      <td>-0.311224</td>\n    </tr>\n    <tr>\n      <th>pathologist</th>\n      <td>98.600000</td>\n      <td>0.693878</td>\n    </tr>\n    <tr>\n      <th>pharmacist</th>\n      <td>57.000000</td>\n      <td>-1.137755</td>\n    </tr>\n    <tr>\n      <th>physician</th>\n      <td>37.900000</td>\n      <td>1.395408</td>\n    </tr>\n    <tr>\n      <th>planner</th>\n      <td>78.600000</td>\n      <td>-0.173469</td>\n    </tr>\n    <tr>\n      <th>practitioner</th>\n      <td>52.700000</td>\n      <td>-0.632653</td>\n    </tr>\n    <tr>\n      <th>programmer</th>\n      <td>12.450000</td>\n      <td>-1.905612</td>\n    </tr>\n    <tr>\n      <th>psychologist</th>\n      <td>70.300000</td>\n      <td>-0.420918</td>\n    </tr>\n    <tr>\n      <th>receptionist</th>\n      <td>90.600000</td>\n      <td>-0.903061</td>\n    </tr>\n    <tr>\n      <th>salesperson</th>\n      <td>30.900000</td>\n      <td>-2.250000</td>\n    </tr>\n    <tr>\n      <th>scientist</th>\n      <td>48.150000</td>\n      <td>-3.801020</td>\n    </tr>\n    <tr>\n      <th>specialist</th>\n      <td>57.842857</td>\n      <td>-0.239796</td>\n    </tr>\n    <tr>\n      <th>supervisor</th>\n      <td>31.118750</td>\n      <td>-0.867347</td>\n    </tr>\n    <tr>\n      <th>teacher</th>\n      <td>72.166667</td>\n      <td>4.211735</td>\n    </tr>\n    <tr>\n      <th>technician</th>\n      <td>34.100000</td>\n      <td>-0.982143</td>\n    </tr>\n    <tr>\n      <th>therapist</th>\n      <td>77.140000</td>\n      <td>1.170918</td>\n    </tr>\n    <tr>\n      <th>veterinarian</th>\n      <td>60.500000</td>\n      <td>-2.839286</td>\n    </tr>\n    <tr>\n      <th>worker</th>\n      <td>37.514706</td>\n      <td>-3.604592</td>\n    </tr>\n  </tbody>\n</table>\n</div>"
     },
     "metadata": {},
     "execution_count": 73
    }
   ],
   "source": [
    "tmp3"
   ]
  },
  {
   "cell_type": "code",
   "execution_count": 11,
   "metadata": {},
   "outputs": [],
   "source": [
    "h_e = pd.read_feather('data/female_electrician_female_hygienist.feather')"
   ]
  },
  {
   "cell_type": "code",
   "execution_count": 12,
   "metadata": {},
   "outputs": [
    {
     "output_type": "execute_result",
     "data": {
      "text/plain": [
       "                                      filename        value  \\\n",
       "0   female_electrician_female_hygienist-14.pcm  electrician   \n",
       "1   female_electrician_female_hygienist-12.pcm  electrician   \n",
       "2   female_electrician_female_hygienist-10.pcm  electrician   \n",
       "3   female_electrician_female_hygienist-08.pcm  electrician   \n",
       "4   female_electrician_female_hygienist-06.pcm  electrician   \n",
       "5   female_electrician_female_hygienist-04.pcm  electrician   \n",
       "6   female_electrician_female_hygienist-02.pcm  electrician   \n",
       "7   female_electrician_female_hygienist+00.pcm         None   \n",
       "8   female_electrician_female_hygienist+02.pcm    hygienist   \n",
       "9   female_electrician_female_hygienist+04.pcm    hygienist   \n",
       "10  female_electrician_female_hygienist+06.pcm    hygienist   \n",
       "11  female_electrician_female_hygienist+08.pcm    hygienist   \n",
       "12  female_electrician_female_hygienist+10.pcm    hygienist   \n",
       "13  female_electrician_female_hygienist+12.pcm    hygienist   \n",
       "14  female_electrician_female_hygienist+14.pcm    hygienist   \n",
       "\n",
       "                   inputTranscript  \\\n",
       "0   \"my occupation is electrician\"   \n",
       "1   \"my occupation is electrician\"   \n",
       "2   \"my occupation is electrician\"   \n",
       "3   \"my occupation is electrician\"   \n",
       "4   \"my occupation is electrician\"   \n",
       "5   \"my occupation is electrician\"   \n",
       "6   \"my occupation is electrician\"   \n",
       "7                  \"my occupation\"   \n",
       "8     \"my occupation is hygienist\"   \n",
       "9     \"my occupation is hygienist\"   \n",
       "10    \"my occupation is hygienist\"   \n",
       "11    \"my occupation is hygienist\"   \n",
       "12    \"my occupation is hygienist\"   \n",
       "13    \"my occupation is hygienist\"   \n",
       "14    \"my occupation is hygienist\"   \n",
       "\n",
       "                                      interpretations  \\\n",
       "0   [{\"nluConfidence\":{\"score\":1.0},\"intent\":{\"nam...   \n",
       "1   [{\"nluConfidence\":{\"score\":1.0},\"intent\":{\"nam...   \n",
       "2   [{\"nluConfidence\":{\"score\":1.0},\"intent\":{\"nam...   \n",
       "3   [{\"nluConfidence\":{\"score\":1.0},\"intent\":{\"nam...   \n",
       "4   [{\"nluConfidence\":{\"score\":1.0},\"intent\":{\"nam...   \n",
       "5   [{\"nluConfidence\":{\"score\":1.0},\"intent\":{\"nam...   \n",
       "6   [{\"nluConfidence\":{\"score\":1.0},\"intent\":{\"nam...   \n",
       "7   [{\"nluConfidence\":{\"score\":1.0},\"intent\":{\"nam...   \n",
       "8   [{\"nluConfidence\":{\"score\":1.0},\"intent\":{\"nam...   \n",
       "9   [{\"nluConfidence\":{\"score\":1.0},\"intent\":{\"nam...   \n",
       "10  [{\"nluConfidence\":{\"score\":1.0},\"intent\":{\"nam...   \n",
       "11  [{\"nluConfidence\":{\"score\":1.0},\"intent\":{\"nam...   \n",
       "12  [{\"nluConfidence\":{\"score\":1.0},\"intent\":{\"nam...   \n",
       "13  [{\"nluConfidence\":{\"score\":1.0},\"intent\":{\"nam...   \n",
       "14  [{\"nluConfidence\":{\"score\":1.0},\"intent\":{\"nam...   \n",
       "\n",
       "                               sessionId  \\\n",
       "0   5026921d-0a7c-4db0-bf03-3d9b6c12cb5d   \n",
       "1   7728ee44-e72e-431f-b1db-a0f59aab08d1   \n",
       "2   154dec33-b6b5-476c-899e-22e139650327   \n",
       "3   2ae573dd-f9f2-4262-836c-82f8a11e22ac   \n",
       "4   add4e68f-a134-4467-a079-02da64a06c2f   \n",
       "5   7a588840-da42-4e91-aa29-73f72ca4a06c   \n",
       "6   d4be815c-a2ce-4807-a495-ff76616532ff   \n",
       "7   2951db75-0726-4693-9541-cfe8d5ac99ce   \n",
       "8   7f0e3121-b376-4713-bbdf-bdd3324608c4   \n",
       "9   aad36fb5-cc2a-4f75-978b-bce9dda13a5b   \n",
       "10  ee21a419-64a9-4b3a-bb1d-239e40dc86bb   \n",
       "11  f5920c83-c957-4e8c-8148-b6989eaaebdd   \n",
       "12  3d70d683-9e6a-4a12-87e2-e69b5ae6fe78   \n",
       "13  4162c0b7-94dd-422a-9409-0156b746b7e3   \n",
       "14  fa9438f5-f879-41fe-b618-9f042bda25db   \n",
       "\n",
       "                                                  res  rank  changepoints  \n",
       "0   {'ResponseMetadata': {'RequestId': '532ee3bf-2...   -14           0.0  \n",
       "1   {'ResponseMetadata': {'RequestId': 'b65e4f28-d...   -12           0.0  \n",
       "2   {'ResponseMetadata': {'RequestId': '52f27693-5...   -10           0.0  \n",
       "3   {'ResponseMetadata': {'RequestId': '660bbcd1-4...    -8           0.0  \n",
       "4   {'ResponseMetadata': {'RequestId': '6f354e56-7...    -6           0.0  \n",
       "5   {'ResponseMetadata': {'RequestId': '3985a4d3-7...    -4           0.0  \n",
       "6   {'ResponseMetadata': {'RequestId': '80a84bca-4...    -2           0.0  \n",
       "7   {'ResponseMetadata': {'RequestId': '7860eac7-6...     0           0.5  \n",
       "8   {'ResponseMetadata': {'RequestId': '68ab3708-d...     2           1.0  \n",
       "9   {'ResponseMetadata': {'RequestId': '5f59ae54-0...     4           1.0  \n",
       "10  {'ResponseMetadata': {'RequestId': 'ba1709e5-4...     6           1.0  \n",
       "11  {'ResponseMetadata': {'RequestId': 'e28774aa-f...     8           1.0  \n",
       "12  {'ResponseMetadata': {'RequestId': 'afb3a178-1...    10           1.0  \n",
       "13  {'ResponseMetadata': {'RequestId': '412c8bff-9...    12           1.0  \n",
       "14  {'ResponseMetadata': {'RequestId': 'd0f563b0-b...    14           1.0  "
      ],
      "text/html": "<div>\n<style scoped>\n    .dataframe tbody tr th:only-of-type {\n        vertical-align: middle;\n    }\n\n    .dataframe tbody tr th {\n        vertical-align: top;\n    }\n\n    .dataframe thead th {\n        text-align: right;\n    }\n</style>\n<table border=\"1\" class=\"dataframe\">\n  <thead>\n    <tr style=\"text-align: right;\">\n      <th></th>\n      <th>filename</th>\n      <th>value</th>\n      <th>inputTranscript</th>\n      <th>interpretations</th>\n      <th>sessionId</th>\n      <th>res</th>\n      <th>rank</th>\n      <th>changepoints</th>\n    </tr>\n  </thead>\n  <tbody>\n    <tr>\n      <th>0</th>\n      <td>female_electrician_female_hygienist-14.pcm</td>\n      <td>electrician</td>\n      <td>\"my occupation is electrician\"</td>\n      <td>[{\"nluConfidence\":{\"score\":1.0},\"intent\":{\"nam...</td>\n      <td>5026921d-0a7c-4db0-bf03-3d9b6c12cb5d</td>\n      <td>{'ResponseMetadata': {'RequestId': '532ee3bf-2...</td>\n      <td>-14</td>\n      <td>0.0</td>\n    </tr>\n    <tr>\n      <th>1</th>\n      <td>female_electrician_female_hygienist-12.pcm</td>\n      <td>electrician</td>\n      <td>\"my occupation is electrician\"</td>\n      <td>[{\"nluConfidence\":{\"score\":1.0},\"intent\":{\"nam...</td>\n      <td>7728ee44-e72e-431f-b1db-a0f59aab08d1</td>\n      <td>{'ResponseMetadata': {'RequestId': 'b65e4f28-d...</td>\n      <td>-12</td>\n      <td>0.0</td>\n    </tr>\n    <tr>\n      <th>2</th>\n      <td>female_electrician_female_hygienist-10.pcm</td>\n      <td>electrician</td>\n      <td>\"my occupation is electrician\"</td>\n      <td>[{\"nluConfidence\":{\"score\":1.0},\"intent\":{\"nam...</td>\n      <td>154dec33-b6b5-476c-899e-22e139650327</td>\n      <td>{'ResponseMetadata': {'RequestId': '52f27693-5...</td>\n      <td>-10</td>\n      <td>0.0</td>\n    </tr>\n    <tr>\n      <th>3</th>\n      <td>female_electrician_female_hygienist-08.pcm</td>\n      <td>electrician</td>\n      <td>\"my occupation is electrician\"</td>\n      <td>[{\"nluConfidence\":{\"score\":1.0},\"intent\":{\"nam...</td>\n      <td>2ae573dd-f9f2-4262-836c-82f8a11e22ac</td>\n      <td>{'ResponseMetadata': {'RequestId': '660bbcd1-4...</td>\n      <td>-8</td>\n      <td>0.0</td>\n    </tr>\n    <tr>\n      <th>4</th>\n      <td>female_electrician_female_hygienist-06.pcm</td>\n      <td>electrician</td>\n      <td>\"my occupation is electrician\"</td>\n      <td>[{\"nluConfidence\":{\"score\":1.0},\"intent\":{\"nam...</td>\n      <td>add4e68f-a134-4467-a079-02da64a06c2f</td>\n      <td>{'ResponseMetadata': {'RequestId': '6f354e56-7...</td>\n      <td>-6</td>\n      <td>0.0</td>\n    </tr>\n    <tr>\n      <th>5</th>\n      <td>female_electrician_female_hygienist-04.pcm</td>\n      <td>electrician</td>\n      <td>\"my occupation is electrician\"</td>\n      <td>[{\"nluConfidence\":{\"score\":1.0},\"intent\":{\"nam...</td>\n      <td>7a588840-da42-4e91-aa29-73f72ca4a06c</td>\n      <td>{'ResponseMetadata': {'RequestId': '3985a4d3-7...</td>\n      <td>-4</td>\n      <td>0.0</td>\n    </tr>\n    <tr>\n      <th>6</th>\n      <td>female_electrician_female_hygienist-02.pcm</td>\n      <td>electrician</td>\n      <td>\"my occupation is electrician\"</td>\n      <td>[{\"nluConfidence\":{\"score\":1.0},\"intent\":{\"nam...</td>\n      <td>d4be815c-a2ce-4807-a495-ff76616532ff</td>\n      <td>{'ResponseMetadata': {'RequestId': '80a84bca-4...</td>\n      <td>-2</td>\n      <td>0.0</td>\n    </tr>\n    <tr>\n      <th>7</th>\n      <td>female_electrician_female_hygienist+00.pcm</td>\n      <td>None</td>\n      <td>\"my occupation\"</td>\n      <td>[{\"nluConfidence\":{\"score\":1.0},\"intent\":{\"nam...</td>\n      <td>2951db75-0726-4693-9541-cfe8d5ac99ce</td>\n      <td>{'ResponseMetadata': {'RequestId': '7860eac7-6...</td>\n      <td>0</td>\n      <td>0.5</td>\n    </tr>\n    <tr>\n      <th>8</th>\n      <td>female_electrician_female_hygienist+02.pcm</td>\n      <td>hygienist</td>\n      <td>\"my occupation is hygienist\"</td>\n      <td>[{\"nluConfidence\":{\"score\":1.0},\"intent\":{\"nam...</td>\n      <td>7f0e3121-b376-4713-bbdf-bdd3324608c4</td>\n      <td>{'ResponseMetadata': {'RequestId': '68ab3708-d...</td>\n      <td>2</td>\n      <td>1.0</td>\n    </tr>\n    <tr>\n      <th>9</th>\n      <td>female_electrician_female_hygienist+04.pcm</td>\n      <td>hygienist</td>\n      <td>\"my occupation is hygienist\"</td>\n      <td>[{\"nluConfidence\":{\"score\":1.0},\"intent\":{\"nam...</td>\n      <td>aad36fb5-cc2a-4f75-978b-bce9dda13a5b</td>\n      <td>{'ResponseMetadata': {'RequestId': '5f59ae54-0...</td>\n      <td>4</td>\n      <td>1.0</td>\n    </tr>\n    <tr>\n      <th>10</th>\n      <td>female_electrician_female_hygienist+06.pcm</td>\n      <td>hygienist</td>\n      <td>\"my occupation is hygienist\"</td>\n      <td>[{\"nluConfidence\":{\"score\":1.0},\"intent\":{\"nam...</td>\n      <td>ee21a419-64a9-4b3a-bb1d-239e40dc86bb</td>\n      <td>{'ResponseMetadata': {'RequestId': 'ba1709e5-4...</td>\n      <td>6</td>\n      <td>1.0</td>\n    </tr>\n    <tr>\n      <th>11</th>\n      <td>female_electrician_female_hygienist+08.pcm</td>\n      <td>hygienist</td>\n      <td>\"my occupation is hygienist\"</td>\n      <td>[{\"nluConfidence\":{\"score\":1.0},\"intent\":{\"nam...</td>\n      <td>f5920c83-c957-4e8c-8148-b6989eaaebdd</td>\n      <td>{'ResponseMetadata': {'RequestId': 'e28774aa-f...</td>\n      <td>8</td>\n      <td>1.0</td>\n    </tr>\n    <tr>\n      <th>12</th>\n      <td>female_electrician_female_hygienist+10.pcm</td>\n      <td>hygienist</td>\n      <td>\"my occupation is hygienist\"</td>\n      <td>[{\"nluConfidence\":{\"score\":1.0},\"intent\":{\"nam...</td>\n      <td>3d70d683-9e6a-4a12-87e2-e69b5ae6fe78</td>\n      <td>{'ResponseMetadata': {'RequestId': 'afb3a178-1...</td>\n      <td>10</td>\n      <td>1.0</td>\n    </tr>\n    <tr>\n      <th>13</th>\n      <td>female_electrician_female_hygienist+12.pcm</td>\n      <td>hygienist</td>\n      <td>\"my occupation is hygienist\"</td>\n      <td>[{\"nluConfidence\":{\"score\":1.0},\"intent\":{\"nam...</td>\n      <td>4162c0b7-94dd-422a-9409-0156b746b7e3</td>\n      <td>{'ResponseMetadata': {'RequestId': '412c8bff-9...</td>\n      <td>12</td>\n      <td>1.0</td>\n    </tr>\n    <tr>\n      <th>14</th>\n      <td>female_electrician_female_hygienist+14.pcm</td>\n      <td>hygienist</td>\n      <td>\"my occupation is hygienist\"</td>\n      <td>[{\"nluConfidence\":{\"score\":1.0},\"intent\":{\"nam...</td>\n      <td>fa9438f5-f879-41fe-b618-9f042bda25db</td>\n      <td>{'ResponseMetadata': {'RequestId': 'd0f563b0-b...</td>\n      <td>14</td>\n      <td>1.0</td>\n    </tr>\n  </tbody>\n</table>\n</div>"
     },
     "metadata": {},
     "execution_count": 12
    }
   ],
   "source": [
    "h_e"
   ]
  },
  {
   "cell_type": "code",
   "execution_count": 13,
   "metadata": {},
   "outputs": [],
   "source": [
    "from preprocessing import generate_mixed_audio "
   ]
  },
  {
   "cell_type": "code",
   "execution_count": 29,
   "metadata": {},
   "outputs": [],
   "source": [
    "generate_mixed_audio(\"male_fav_electrician\",\"female_fav_hygienist\")\n",
    "generate_mixed_audio(\"female_fav_electrician\",\"male_fav_hygienist\")\n",
    "generate_mixed_audio(\"female_fav_electrician\",\"female_fav_hygienist\")\n",
    "generate_mixed_audio(\"male_fav_electrician\",\"male_fav_hygienist\")"
   ]
  },
  {
   "cell_type": "code",
   "execution_count": 4,
   "metadata": {
    "tags": [
     "outputPrepend"
    ]
   },
   "outputs": [
    {
     "output_type": "stream",
     "name": "stdout",
     "text": [
      "pe --enable-libfribidi --enable-libgme --enable-libgsm --enable-libmp3lame --enable-libmysofa --enable-libopenjpeg --enable-libopenmpt --enable-libopus --enable-libpulse --enable-librubberband --enable-librsvg --enable-libshine --enable-libsnappy --enable-libsoxr --enable-libspeex --enable-libssh --enable-libtheora --enable-libtwolame --enable-libvorbis --enable-libvpx --enable-libwavpack --enable-libwebp --enable-libx265 --enable-libxml2 --enable-libxvid --enable-libzmq --enable-libzvbi --enable-omx --enable-openal --enable-opengl --enable-sdl2 --enable-libdc1394 --enable-libdrm --enable-libiec61883 --enable-chromaprint --enable-frei0r --enable-libopencv --enable-libx264 --enable-shared\n",
      "  libavutil      55. 78.100 / 55. 78.100\n",
      "  libavcodec     57.107.100 / 57.107.100\n",
      "  libavformat    57. 83.100 / 57. 83.100\n",
      "  libavdevice    57. 10.100 / 57. 10.100\n",
      "  libavfilter     6.107.100 /  6.107.100\n",
      "  libavresample   3.  7.  0 /  3.  7.  0\n",
      "  libswscale      4.  8.100 /  4.  8.100\n",
      "  libswresample   2.  9.100 /  2.  9.100\n",
      "  libpostproc    54.  7.100 / 54.  7.100\n",
      "\u001b[0;35m[s16le @ 0x556168a1d900] \u001b[0m\u001b[0;33mEstimating duration from bitrate, this may be inaccurate\n",
      "\u001b[0m\u001b[0;33mGuessed Channel Layout for Input Stream #0.0 : mono\n",
      "\u001b[0mInput #0, s16le, from 'audios/female_fav_electrician_male_fav_hygienist/female_fav_electrician_male_fav_hygienist+04.pcm':\n",
      "  Duration: 00:00:02.03, bitrate: 256 kb/s\n",
      "    Stream #0:0: Audio: pcm_s16le, 16000 Hz, mono, s16, 256 kb/s\n",
      "Stream mapping:\n",
      "  Stream #0:0 -> #0:0 (pcm_s16le (native) -> mp3 (libmp3lame))\n",
      "Press [q] to stop, [?] for help\n",
      "Output #0, mp3, to 'audios/female_fav_electrician_male_fav_hygienist/female_fav_electrician_male_fav_hygienist+04.mp3':\n",
      "  Metadata:\n",
      "    TSSE            : Lavf57.83.100\n",
      "    Stream #0:0: Audio: mp3 (libmp3lame), 16000 Hz, mono, s16p\n",
      "    Metadata:\n",
      "      encoder         : Lavc57.107.100 libmp3lame\n",
      "size=       6kB time=00:00:02.05 bitrate=  25.7kbits/s speed= 218x    \n",
      "video:0kB audio:6kB subtitle:0kB other streams:0kB global headers:0kB muxing overhead: 3.531073%\n",
      "ffmpeg version 3.4.8-0ubuntu0.2 Copyright (c) 2000-2020 the FFmpeg developers\n",
      "  built with gcc 7 (Ubuntu 7.5.0-3ubuntu1~18.04)\n",
      "  configuration: --prefix=/usr --extra-version=0ubuntu0.2 --toolchain=hardened --libdir=/usr/lib/x86_64-linux-gnu --incdir=/usr/include/x86_64-linux-gnu --enable-gpl --disable-stripping --enable-avresample --enable-avisynth --enable-gnutls --enable-ladspa --enable-libass --enable-libbluray --enable-libbs2b --enable-libcaca --enable-libcdio --enable-libflite --enable-libfontconfig --enable-libfreetype --enable-libfribidi --enable-libgme --enable-libgsm --enable-libmp3lame --enable-libmysofa --enable-libopenjpeg --enable-libopenmpt --enable-libopus --enable-libpulse --enable-librubberband --enable-librsvg --enable-libshine --enable-libsnappy --enable-libsoxr --enable-libspeex --enable-libssh --enable-libtheora --enable-libtwolame --enable-libvorbis --enable-libvpx --enable-libwavpack --enable-libwebp --enable-libx265 --enable-libxml2 --enable-libxvid --enable-libzmq --enable-libzvbi --enable-omx --enable-openal --enable-opengl --enable-sdl2 --enable-libdc1394 --enable-libdrm --enable-libiec61883 --enable-chromaprint --enable-frei0r --enable-libopencv --enable-libx264 --enable-shared\n",
      "  libavutil      55. 78.100 / 55. 78.100\n",
      "  libavcodec     57.107.100 / 57.107.100\n",
      "  libavformat    57. 83.100 / 57. 83.100\n",
      "  libavdevice    57. 10.100 / 57. 10.100\n",
      "  libavfilter     6.107.100 /  6.107.100\n",
      "  libavresample   3.  7.  0 /  3.  7.  0\n",
      "  libswscale      4.  8.100 /  4.  8.100\n",
      "  libswresample   2.  9.100 /  2.  9.100\n",
      "  libpostproc    54.  7.100 / 54.  7.100\n",
      "\u001b[0;35m[s16le @ 0x55d156f10900] \u001b[0m\u001b[0;33mEstimating duration from bitrate, this may be inaccurate\n",
      "\u001b[0m\u001b[0;33mGuessed Channel Layout for Input Stream #0.0 : mono\n",
      "\u001b[0mInput #0, s16le, from 'audios/female_fav_electrician_male_fav_hygienist/female_fav_electrician_male_fav_hygienist+14.pcm':\n",
      "  Duration: 00:00:02.03, bitrate: 256 kb/s\n",
      "    Stream #0:0: Audio: pcm_s16le, 16000 Hz, mono, s16, 256 kb/s\n",
      "Stream mapping:\n",
      "  Stream #0:0 -> #0:0 (pcm_s16le (native) -> mp3 (libmp3lame))\n",
      "Press [q] to stop, [?] for help\n",
      "Output #0, mp3, to 'audios/female_fav_electrician_male_fav_hygienist/female_fav_electrician_male_fav_hygienist+14.mp3':\n",
      "  Metadata:\n",
      "    TSSE            : Lavf57.83.100\n",
      "    Stream #0:0: Audio: mp3 (libmp3lame), 16000 Hz, mono, s16p\n",
      "    Metadata:\n",
      "      encoder         : Lavc57.107.100 libmp3lame\n",
      "size=       6kB time=00:00:02.05 bitrate=  25.7kbits/s speed= 243x    \n",
      "video:0kB audio:6kB subtitle:0kB other streams:0kB global headers:0kB muxing overhead: 3.531073%\n",
      "ffmpeg version 3.4.8-0ubuntu0.2 Copyright (c) 2000-2020 the FFmpeg developers\n",
      "  built with gcc 7 (Ubuntu 7.5.0-3ubuntu1~18.04)\n",
      "  configuration: --prefix=/usr --extra-version=0ubuntu0.2 --toolchain=hardened --libdir=/usr/lib/x86_64-linux-gnu --incdir=/usr/include/x86_64-linux-gnu --enable-gpl --disable-stripping --enable-avresample --enable-avisynth --enable-gnutls --enable-ladspa --enable-libass --enable-libbluray --enable-libbs2b --enable-libcaca --enable-libcdio --enable-libflite --enable-libfontconfig --enable-libfreetype --enable-libfribidi --enable-libgme --enable-libgsm --enable-libmp3lame --enable-libmysofa --enable-libopenjpeg --enable-libopenmpt --enable-libopus --enable-libpulse --enable-librubberband --enable-librsvg --enable-libshine --enable-libsnappy --enable-libsoxr --enable-libspeex --enable-libssh --enable-libtheora --enable-libtwolame --enable-libvorbis --enable-libvpx --enable-libwavpack --enable-libwebp --enable-libx265 --enable-libxml2 --enable-libxvid --enable-libzmq --enable-libzvbi --enable-omx --enable-openal --enable-opengl --enable-sdl2 --enable-libdc1394 --enable-libdrm --enable-libiec61883 --enable-chromaprint --enable-frei0r --enable-libopencv --enable-libx264 --enable-shared\n",
      "  libavutil      55. 78.100 / 55. 78.100\n",
      "  libavcodec     57.107.100 / 57.107.100\n",
      "  libavformat    57. 83.100 / 57. 83.100\n",
      "  libavdevice    57. 10.100 / 57. 10.100\n",
      "  libavfilter     6.107.100 /  6.107.100\n",
      "  libavresample   3.  7.  0 /  3.  7.  0\n",
      "  libswscale      4.  8.100 /  4.  8.100\n",
      "  libswresample   2.  9.100 /  2.  9.100\n",
      "  libpostproc    54.  7.100 / 54.  7.100\n",
      "\u001b[0;35m[s16le @ 0x55b6b35ce900] \u001b[0m\u001b[0;33mEstimating duration from bitrate, this may be inaccurate\n",
      "\u001b[0m\u001b[0;33mGuessed Channel Layout for Input Stream #0.0 : mono\n",
      "\u001b[0mInput #0, s16le, from 'audios/female_fav_electrician_male_fav_hygienist/female_fav_electrician_male_fav_hygienist-14.pcm':\n",
      "  Duration: 00:00:02.03, bitrate: 256 kb/s\n",
      "    Stream #0:0: Audio: pcm_s16le, 16000 Hz, mono, s16, 256 kb/s\n",
      "Stream mapping:\n",
      "  Stream #0:0 -> #0:0 (pcm_s16le (native) -> mp3 (libmp3lame))\n",
      "Press [q] to stop, [?] for help\n",
      "Output #0, mp3, to 'audios/female_fav_electrician_male_fav_hygienist/female_fav_electrician_male_fav_hygienist-14.mp3':\n",
      "  Metadata:\n",
      "    TSSE            : Lavf57.83.100\n",
      "    Stream #0:0: Audio: mp3 (libmp3lame), 16000 Hz, mono, s16p\n",
      "    Metadata:\n",
      "      encoder         : Lavc57.107.100 libmp3lame\n",
      "size=       6kB time=00:00:02.05 bitrate=  25.7kbits/s speed= 214x    \n",
      "video:0kB audio:6kB subtitle:0kB other streams:0kB global headers:0kB muxing overhead: 3.531073%\n",
      "ffmpeg version 3.4.8-0ubuntu0.2 Copyright (c) 2000-2020 the FFmpeg developers\n",
      "  built with gcc 7 (Ubuntu 7.5.0-3ubuntu1~18.04)\n",
      "  configuration: --prefix=/usr --extra-version=0ubuntu0.2 --toolchain=hardened --libdir=/usr/lib/x86_64-linux-gnu --incdir=/usr/include/x86_64-linux-gnu --enable-gpl --disable-stripping --enable-avresample --enable-avisynth --enable-gnutls --enable-ladspa --enable-libass --enable-libbluray --enable-libbs2b --enable-libcaca --enable-libcdio --enable-libflite --enable-libfontconfig --enable-libfreetype --enable-libfribidi --enable-libgme --enable-libgsm --enable-libmp3lame --enable-libmysofa --enable-libopenjpeg --enable-libopenmpt --enable-libopus --enable-libpulse --enable-librubberband --enable-librsvg --enable-libshine --enable-libsnappy --enable-libsoxr --enable-libspeex --enable-libssh --enable-libtheora --enable-libtwolame --enable-libvorbis --enable-libvpx --enable-libwavpack --enable-libwebp --enable-libx265 --enable-libxml2 --enable-libxvid --enable-libzmq --enable-libzvbi --enable-omx --enable-openal --enable-opengl --enable-sdl2 --enable-libdc1394 --enable-libdrm --enable-libiec61883 --enable-chromaprint --enable-frei0r --enable-libopencv --enable-libx264 --enable-shared\n",
      "  libavutil      55. 78.100 / 55. 78.100\n",
      "  libavcodec     57.107.100 / 57.107.100\n",
      "  libavformat    57. 83.100 / 57. 83.100\n",
      "  libavdevice    57. 10.100 / 57. 10.100\n",
      "  libavfilter     6.107.100 /  6.107.100\n",
      "  libavresample   3.  7.  0 /  3.  7.  0\n",
      "  libswscale      4.  8.100 /  4.  8.100\n",
      "  libswresample   2.  9.100 /  2.  9.100\n",
      "  libpostproc    54.  7.100 / 54.  7.100\n",
      "\u001b[0;35m[s16le @ 0x55b6c9c76900] \u001b[0m\u001b[0;33mEstimating duration from bitrate, this may be inaccurate\n",
      "\u001b[0m\u001b[0;33mGuessed Channel Layout for Input Stream #0.0 : mono\n",
      "\u001b[0mInput #0, s16le, from 'audios/female_fav_electrician_male_fav_hygienist/female_fav_electrician_male_fav_hygienist-04.pcm':\n",
      "  Duration: 00:00:02.03, bitrate: 256 kb/s\n",
      "    Stream #0:0: Audio: pcm_s16le, 16000 Hz, mono, s16, 256 kb/s\n",
      "Stream mapping:\n",
      "  Stream #0:0 -> #0:0 (pcm_s16le (native) -> mp3 (libmp3lame))\n",
      "Press [q] to stop, [?] for help\n",
      "Output #0, mp3, to 'audios/female_fav_electrician_male_fav_hygienist/female_fav_electrician_male_fav_hygienist-04.mp3':\n",
      "  Metadata:\n",
      "    TSSE            : Lavf57.83.100\n",
      "    Stream #0:0: Audio: mp3 (libmp3lame), 16000 Hz, mono, s16p\n",
      "    Metadata:\n",
      "      encoder         : Lavc57.107.100 libmp3lame\n",
      "size=       6kB time=00:00:02.05 bitrate=  25.7kbits/s speed= 205x    \n",
      "video:0kB audio:6kB subtitle:0kB other streams:0kB global headers:0kB muxing overhead: 3.531073%\n",
      "ffmpeg version 3.4.8-0ubuntu0.2 Copyright (c) 2000-2020 the FFmpeg developers\n",
      "  built with gcc 7 (Ubuntu 7.5.0-3ubuntu1~18.04)\n",
      "  configuration: --prefix=/usr --extra-version=0ubuntu0.2 --toolchain=hardened --libdir=/usr/lib/x86_64-linux-gnu --incdir=/usr/include/x86_64-linux-gnu --enable-gpl --disable-stripping --enable-avresample --enable-avisynth --enable-gnutls --enable-ladspa --enable-libass --enable-libbluray --enable-libbs2b --enable-libcaca --enable-libcdio --enable-libflite --enable-libfontconfig --enable-libfreetype --enable-libfribidi --enable-libgme --enable-libgsm --enable-libmp3lame --enable-libmysofa --enable-libopenjpeg --enable-libopenmpt --enable-libopus --enable-libpulse --enable-librubberband --enable-librsvg --enable-libshine --enable-libsnappy --enable-libsoxr --enable-libspeex --enable-libssh --enable-libtheora --enable-libtwolame --enable-libvorbis --enable-libvpx --enable-libwavpack --enable-libwebp --enable-libx265 --enable-libxml2 --enable-libxvid --enable-libzmq --enable-libzvbi --enable-omx --enable-openal --enable-opengl --enable-sdl2 --enable-libdc1394 --enable-libdrm --enable-libiec61883 --enable-chromaprint --enable-frei0r --enable-libopencv --enable-libx264 --enable-shared\n",
      "  libavutil      55. 78.100 / 55. 78.100\n",
      "  libavcodec     57.107.100 / 57.107.100\n",
      "  libavformat    57. 83.100 / 57. 83.100\n",
      "  libavdevice    57. 10.100 / 57. 10.100\n",
      "  libavfilter     6.107.100 /  6.107.100\n",
      "  libavresample   3.  7.  0 /  3.  7.  0\n",
      "  libswscale      4.  8.100 /  4.  8.100\n",
      "  libswresample   2.  9.100 /  2.  9.100\n",
      "  libpostproc    54.  7.100 / 54.  7.100\n",
      "\u001b[0;35m[s16le @ 0x55a3e4200900] \u001b[0m\u001b[0;33mEstimating duration from bitrate, this may be inaccurate\n",
      "\u001b[0m\u001b[0;33mGuessed Channel Layout for Input Stream #0.0 : mono\n",
      "\u001b[0mInput #0, s16le, from 'audios/female_fav_electrician_male_fav_hygienist/female_fav_electrician_male_fav_hygienist-02.pcm':\n",
      "  Duration: 00:00:02.03, bitrate: 256 kb/s\n",
      "    Stream #0:0: Audio: pcm_s16le, 16000 Hz, mono, s16, 256 kb/s\n",
      "Stream mapping:\n",
      "  Stream #0:0 -> #0:0 (pcm_s16le (native) -> mp3 (libmp3lame))\n",
      "Press [q] to stop, [?] for help\n",
      "Output #0, mp3, to 'audios/female_fav_electrician_male_fav_hygienist/female_fav_electrician_male_fav_hygienist-02.mp3':\n",
      "  Metadata:\n",
      "    TSSE            : Lavf57.83.100\n",
      "    Stream #0:0: Audio: mp3 (libmp3lame), 16000 Hz, mono, s16p\n",
      "    Metadata:\n",
      "      encoder         : Lavc57.107.100 libmp3lame\n",
      "size=       6kB time=00:00:02.05 bitrate=  25.7kbits/s speed= 214x    \n",
      "video:0kB audio:6kB subtitle:0kB other streams:0kB global headers:0kB muxing overhead: 3.531073%\n",
      "ffmpeg version 3.4.8-0ubuntu0.2 Copyright (c) 2000-2020 the FFmpeg developers\n",
      "  built with gcc 7 (Ubuntu 7.5.0-3ubuntu1~18.04)\n",
      "  configuration: --prefix=/usr --extra-version=0ubuntu0.2 --toolchain=hardened --libdir=/usr/lib/x86_64-linux-gnu --incdir=/usr/include/x86_64-linux-gnu --enable-gpl --disable-stripping --enable-avresample --enable-avisynth --enable-gnutls --enable-ladspa --enable-libass --enable-libbluray --enable-libbs2b --enable-libcaca --enable-libcdio --enable-libflite --enable-libfontconfig --enable-libfreetype --enable-libfribidi --enable-libgme --enable-libgsm --enable-libmp3lame --enable-libmysofa --enable-libopenjpeg --enable-libopenmpt --enable-libopus --enable-libpulse --enable-librubberband --enable-librsvg --enable-libshine --enable-libsnappy --enable-libsoxr --enable-libspeex --enable-libssh --enable-libtheora --enable-libtwolame --enable-libvorbis --enable-libvpx --enable-libwavpack --enable-libwebp --enable-libx265 --enable-libxml2 --enable-libxvid --enable-libzmq --enable-libzvbi --enable-omx --enable-openal --enable-opengl --enable-sdl2 --enable-libdc1394 --enable-libdrm --enable-libiec61883 --enable-chromaprint --enable-frei0r --enable-libopencv --enable-libx264 --enable-shared\n",
      "  libavutil      55. 78.100 / 55. 78.100\n",
      "  libavcodec     57.107.100 / 57.107.100\n",
      "  libavformat    57. 83.100 / 57. 83.100\n",
      "  libavdevice    57. 10.100 / 57. 10.100\n",
      "  libavfilter     6.107.100 /  6.107.100\n",
      "  libavresample   3.  7.  0 /  3.  7.  0\n",
      "  libswscale      4.  8.100 /  4.  8.100\n",
      "  libswresample   2.  9.100 /  2.  9.100\n",
      "  libpostproc    54.  7.100 / 54.  7.100\n",
      "\u001b[0;35m[s16le @ 0x55bcad4f8900] \u001b[0m\u001b[0;33mEstimating duration from bitrate, this may be inaccurate\n",
      "\u001b[0m\u001b[0;33mGuessed Channel Layout for Input Stream #0.0 : mono\n",
      "\u001b[0mInput #0, s16le, from 'audios/female_fav_electrician_male_fav_hygienist/female_fav_electrician_male_fav_hygienist+00.pcm':\n",
      "  Duration: 00:00:02.03, bitrate: 256 kb/s\n",
      "    Stream #0:0: Audio: pcm_s16le, 16000 Hz, mono, s16, 256 kb/s\n",
      "Stream mapping:\n",
      "  Stream #0:0 -> #0:0 (pcm_s16le (native) -> mp3 (libmp3lame))\n",
      "Press [q] to stop, [?] for help\n",
      "Output #0, mp3, to 'audios/female_fav_electrician_male_fav_hygienist/female_fav_electrician_male_fav_hygienist+00.mp3':\n",
      "  Metadata:\n",
      "    TSSE            : Lavf57.83.100\n",
      "    Stream #0:0: Audio: mp3 (libmp3lame), 16000 Hz, mono, s16p\n",
      "    Metadata:\n",
      "      encoder         : Lavc57.107.100 libmp3lame\n",
      "size=       6kB time=00:00:02.05 bitrate=  25.7kbits/s speed= 233x    \n",
      "video:0kB audio:6kB subtitle:0kB other streams:0kB global headers:0kB muxing overhead: 3.531073%\n",
      "ffmpeg version 3.4.8-0ubuntu0.2 Copyright (c) 2000-2020 the FFmpeg developers\n",
      "  built with gcc 7 (Ubuntu 7.5.0-3ubuntu1~18.04)\n",
      "  configuration: --prefix=/usr --extra-version=0ubuntu0.2 --toolchain=hardened --libdir=/usr/lib/x86_64-linux-gnu --incdir=/usr/include/x86_64-linux-gnu --enable-gpl --disable-stripping --enable-avresample --enable-avisynth --enable-gnutls --enable-ladspa --enable-libass --enable-libbluray --enable-libbs2b --enable-libcaca --enable-libcdio --enable-libflite --enable-libfontconfig --enable-libfreetype --enable-libfribidi --enable-libgme --enable-libgsm --enable-libmp3lame --enable-libmysofa --enable-libopenjpeg --enable-libopenmpt --enable-libopus --enable-libpulse --enable-librubberband --enable-librsvg --enable-libshine --enable-libsnappy --enable-libsoxr --enable-libspeex --enable-libssh --enable-libtheora --enable-libtwolame --enable-libvorbis --enable-libvpx --enable-libwavpack --enable-libwebp --enable-libx265 --enable-libxml2 --enable-libxvid --enable-libzmq --enable-libzvbi --enable-omx --enable-openal --enable-opengl --enable-sdl2 --enable-libdc1394 --enable-libdrm --enable-libiec61883 --enable-chromaprint --enable-frei0r --enable-libopencv --enable-libx264 --enable-shared\n",
      "  libavutil      55. 78.100 / 55. 78.100\n",
      "  libavcodec     57.107.100 / 57.107.100\n",
      "  libavformat    57. 83.100 / 57. 83.100\n",
      "  libavdevice    57. 10.100 / 57. 10.100\n",
      "  libavfilter     6.107.100 /  6.107.100\n",
      "  libavresample   3.  7.  0 /  3.  7.  0\n",
      "  libswscale      4.  8.100 /  4.  8.100\n",
      "  libswresample   2.  9.100 /  2.  9.100\n",
      "  libpostproc    54.  7.100 / 54.  7.100\n",
      "\u001b[0;35m[s16le @ 0x5642bab52900] \u001b[0m\u001b[0;33mEstimating duration from bitrate, this may be inaccurate\n",
      "\u001b[0m\u001b[0;33mGuessed Channel Layout for Input Stream #0.0 : mono\n",
      "\u001b[0mInput #0, s16le, from 'audios/female_fav_electrician_male_fav_hygienist/female_fav_electrician_male_fav_hygienist+10.pcm':\n",
      "  Duration: 00:00:02.03, bitrate: 256 kb/s\n",
      "    Stream #0:0: Audio: pcm_s16le, 16000 Hz, mono, s16, 256 kb/s\n",
      "Stream mapping:\n",
      "  Stream #0:0 -> #0:0 (pcm_s16le (native) -> mp3 (libmp3lame))\n",
      "Press [q] to stop, [?] for help\n",
      "Output #0, mp3, to 'audios/female_fav_electrician_male_fav_hygienist/female_fav_electrician_male_fav_hygienist+10.mp3':\n",
      "  Metadata:\n",
      "    TSSE            : Lavf57.83.100\n",
      "    Stream #0:0: Audio: mp3 (libmp3lame), 16000 Hz, mono, s16p\n",
      "    Metadata:\n",
      "      encoder         : Lavc57.107.100 libmp3lame\n",
      "size=       6kB time=00:00:02.05 bitrate=  25.7kbits/s speed= 190x    \n",
      "video:0kB audio:6kB subtitle:0kB other streams:0kB global headers:0kB muxing overhead: 3.531073%\n",
      "ffmpeg version 3.4.8-0ubuntu0.2 Copyright (c) 2000-2020 the FFmpeg developers\n",
      "  built with gcc 7 (Ubuntu 7.5.0-3ubuntu1~18.04)\n",
      "  configuration: --prefix=/usr --extra-version=0ubuntu0.2 --toolchain=hardened --libdir=/usr/lib/x86_64-linux-gnu --incdir=/usr/include/x86_64-linux-gnu --enable-gpl --disable-stripping --enable-avresample --enable-avisynth --enable-gnutls --enable-ladspa --enable-libass --enable-libbluray --enable-libbs2b --enable-libcaca --enable-libcdio --enable-libflite --enable-libfontconfig --enable-libfreetype --enable-libfribidi --enable-libgme --enable-libgsm --enable-libmp3lame --enable-libmysofa --enable-libopenjpeg --enable-libopenmpt --enable-libopus --enable-libpulse --enable-librubberband --enable-librsvg --enable-libshine --enable-libsnappy --enable-libsoxr --enable-libspeex --enable-libssh --enable-libtheora --enable-libtwolame --enable-libvorbis --enable-libvpx --enable-libwavpack --enable-libwebp --enable-libx265 --enable-libxml2 --enable-libxvid --enable-libzmq --enable-libzvbi --enable-omx --enable-openal --enable-opengl --enable-sdl2 --enable-libdc1394 --enable-libdrm --enable-libiec61883 --enable-chromaprint --enable-frei0r --enable-libopencv --enable-libx264 --enable-shared\n",
      "  libavutil      55. 78.100 / 55. 78.100\n",
      "  libavcodec     57.107.100 / 57.107.100\n",
      "  libavformat    57. 83.100 / 57. 83.100\n",
      "  libavdevice    57. 10.100 / 57. 10.100\n",
      "  libavfilter     6.107.100 /  6.107.100\n",
      "  libavresample   3.  7.  0 /  3.  7.  0\n",
      "  libswscale      4.  8.100 /  4.  8.100\n",
      "  libswresample   2.  9.100 /  2.  9.100\n",
      "  libpostproc    54.  7.100 / 54.  7.100\n",
      "\u001b[0;35m[s16le @ 0x55962651d900] \u001b[0m\u001b[0;33mEstimating duration from bitrate, this may be inaccurate\n",
      "\u001b[0m\u001b[0;33mGuessed Channel Layout for Input Stream #0.0 : mono\n",
      "\u001b[0mInput #0, s16le, from 'audios/female_fav_electrician_male_fav_hygienist/female_fav_electrician_male_fav_hygienist-10.pcm':\n",
      "  Duration: 00:00:02.03, bitrate: 256 kb/s\n",
      "    Stream #0:0: Audio: pcm_s16le, 16000 Hz, mono, s16, 256 kb/s\n",
      "Stream mapping:\n",
      "  Stream #0:0 -> #0:0 (pcm_s16le (native) -> mp3 (libmp3lame))\n",
      "Press [q] to stop, [?] for help\n",
      "Output #0, mp3, to 'audios/female_fav_electrician_male_fav_hygienist/female_fav_electrician_male_fav_hygienist-10.mp3':\n",
      "  Metadata:\n",
      "    TSSE            : Lavf57.83.100\n",
      "    Stream #0:0: Audio: mp3 (libmp3lame), 16000 Hz, mono, s16p\n",
      "    Metadata:\n",
      "      encoder         : Lavc57.107.100 libmp3lame\n",
      "size=       6kB time=00:00:02.05 bitrate=  25.7kbits/s speed= 226x    \n",
      "video:0kB audio:6kB subtitle:0kB other streams:0kB global headers:0kB muxing overhead: 3.531073%\n"
     ]
    }
   ],
   "source": [
    "def convert_audio(root_path):\n",
    "    for i in os.listdir(root_path):\n",
    "        !ffmpeg -f s16le -ar 16K -i {root_path+i}  {root_path+i.split(\".\")[0]+\".mp3\"}\n",
    "\n",
    "convert_audio(\"audios/female_fav_electrician_female_fav_hygienist/\")\n",
    "convert_audio(\"audios/male_fav_electrician_female_fav_hygienist/\")\n",
    "convert_audio(\"audios/female_fav_electrician_male_fav_hygienist/\")"
   ]
  },
  {
   "cell_type": "code",
   "execution_count": 27,
   "metadata": {},
   "outputs": [],
   "source": [
    "from polly_audio_generator import generate_audio\n",
    "from configs import MALE_VOICE_ID, FEMALE_VOICE_ID\n",
    "generate_audio(\"my favorite job is hygienist\",MALE_VOICE_ID, \"male_fav_hygienist\")\n",
    "generate_audio(\"my favorite job is electrician\", MALE_VOICE_ID, \"male_fav_electrician\" )\n",
    "generate_audio(\"my favorite job is hygienist\", FEMALE_VOICE_ID, \"female_fav_hygienist\" )\n",
    "generate_audio(\"my favorite job is electrician\", FEMALE_VOICE_ID, \"female_fav_electrician\" )\n"
   ]
  },
  {
   "cell_type": "code",
   "execution_count": 9,
   "metadata": {},
   "outputs": [],
   "source": [
    "from polly_audio_generator import generate_audio\n",
    "from configs import MALE_VOICE_ID, FEMALE_VOICE_ID\n",
    "\n",
    "generate_audio(\"my favorite job is hygienist\", FEMALE_VOICE_ID, \"female_fav_hygienist.mp3\" )\n"
   ]
  },
  {
   "cell_type": "code",
   "execution_count": null,
   "metadata": {},
   "outputs": [],
   "source": []
  }
 ]
}