{
 "metadata": {
  "language_info": {
   "codemirror_mode": {
    "name": "ipython",
    "version": 3
   },
   "file_extension": ".py",
   "mimetype": "text/x-python",
   "name": "python",
   "nbconvert_exporter": "python",
   "pygments_lexer": "ipython3",
   "version": "3.7.3"
  },
  "orig_nbformat": 4,
  "kernelspec": {
   "name": "python3",
   "display_name": "Python 3.7.3 64-bit ('base': conda)"
  },
  "interpreter": {
   "hash": "d6be581d66d6041584e8891c467237f97011dc2651abe3e7807bbb1a74ce6485"
  }
 },
 "nbformat": 4,
 "nbformat_minor": 2,
 "cells": [
  {
   "cell_type": "code",
   "execution_count": 296,
   "metadata": {},
   "outputs": [],
   "source": [
    "from configs import OCCUPATION_LIST\n",
    "from itertools import combinations\n",
    "import pandas as pd \n",
    "import random\n",
    "import numpy as np\n",
    "from scipy import interpolate\n",
    "from scipy.optimize import bisect\n",
    "\n",
    "def find_pse(occ):\n",
    "    df = pd.read_feather(f'data/{occ}.feather')\n",
    "    arr = np.array(df.changepoints)\n",
    "    return bisect(interpolate.interp1d(df['rank'], arr-0.5), min(df['rank']), max(df['rank']))\n"
   ]
  },
  {
   "cell_type": "code",
   "execution_count": 300,
   "metadata": {},
   "outputs": [],
   "source": [
    "occupation_combinations = list(combinations(OCCUPATION_LIST, 2))\n",
    "\n",
    "summary = {\n",
    "    \"occupation\":[],\n",
    "    \"ff_pse\":[],\n",
    "    \"mm_pse\":[],\n",
    "    \"fm_pse\":[],\n",
    "    \"mf_pse\":[]\n",
    "}\n",
    "\n",
    "for lhs, rhs in occupation_combinations:\n",
    "    summary['occupation'].append(f\"{lhs}_{rhs}\")\n",
    "\n",
    "    summary['ff_pse'].append(find_pse(f\"female_{lhs}_female_{rhs}\"))\n",
    "    summary['mm_pse'].append(find_pse(f\"male_{lhs}_male_{rhs}\"))\n",
    "    summary['fm_pse'].append(find_pse(f\"female_{lhs}_male_{rhs}\"))\n",
    "    summary['mf_pse'].append(find_pse(f\"male_{lhs}_female_{rhs}\"))\n",
    "\n"
   ]
  },
  {
   "cell_type": "code",
   "execution_count": 302,
   "metadata": {},
   "outputs": [],
   "source": [
    "summary_df = pd.DataFrame(summary)"
   ]
  },
  {
   "cell_type": "code",
   "execution_count": 303,
   "metadata": {},
   "outputs": [
    {
     "output_type": "execute_result",
     "data": {
      "text/plain": [
       "                 occupation  ff_pse  mm_pse  fm_pse  mf_pse\n",
       "0     technician_accountant    -1.0    -5.0    -4.0    -1.0\n",
       "1     technician_supervisor    -5.0    -5.0    -5.0     0.0\n",
       "2       technician_engineer    -1.0     1.0    -1.0     1.0\n",
       "3         technician_worker     3.0     3.5    -1.0     4.0\n",
       "4       technician_educator     0.0     2.0     7.0    -2.0\n",
       "...                     ...     ...     ...     ...     ...\n",
       "1220   programmer_hygienist    -3.5    -2.0    -3.5     1.0\n",
       "1221   programmer_scientist    -1.0    -3.5    -5.0     1.0\n",
       "1222    paralegal_hygienist   -11.0    -2.0    -4.0    -1.0\n",
       "1223    paralegal_scientist     0.0    -7.0    -5.0    -1.0\n",
       "1224    hygienist_scientist     1.0    -1.0    -4.0     1.0\n",
       "\n",
       "[1225 rows x 5 columns]"
      ],
      "text/html": "<div>\n<style scoped>\n    .dataframe tbody tr th:only-of-type {\n        vertical-align: middle;\n    }\n\n    .dataframe tbody tr th {\n        vertical-align: top;\n    }\n\n    .dataframe thead th {\n        text-align: right;\n    }\n</style>\n<table border=\"1\" class=\"dataframe\">\n  <thead>\n    <tr style=\"text-align: right;\">\n      <th></th>\n      <th>occupation</th>\n      <th>ff_pse</th>\n      <th>mm_pse</th>\n      <th>fm_pse</th>\n      <th>mf_pse</th>\n    </tr>\n  </thead>\n  <tbody>\n    <tr>\n      <th>0</th>\n      <td>technician_accountant</td>\n      <td>-1.0</td>\n      <td>-5.0</td>\n      <td>-4.0</td>\n      <td>-1.0</td>\n    </tr>\n    <tr>\n      <th>1</th>\n      <td>technician_supervisor</td>\n      <td>-5.0</td>\n      <td>-5.0</td>\n      <td>-5.0</td>\n      <td>0.0</td>\n    </tr>\n    <tr>\n      <th>2</th>\n      <td>technician_engineer</td>\n      <td>-1.0</td>\n      <td>1.0</td>\n      <td>-1.0</td>\n      <td>1.0</td>\n    </tr>\n    <tr>\n      <th>3</th>\n      <td>technician_worker</td>\n      <td>3.0</td>\n      <td>3.5</td>\n      <td>-1.0</td>\n      <td>4.0</td>\n    </tr>\n    <tr>\n      <th>4</th>\n      <td>technician_educator</td>\n      <td>0.0</td>\n      <td>2.0</td>\n      <td>7.0</td>\n      <td>-2.0</td>\n    </tr>\n    <tr>\n      <th>...</th>\n      <td>...</td>\n      <td>...</td>\n      <td>...</td>\n      <td>...</td>\n      <td>...</td>\n    </tr>\n    <tr>\n      <th>1220</th>\n      <td>programmer_hygienist</td>\n      <td>-3.5</td>\n      <td>-2.0</td>\n      <td>-3.5</td>\n      <td>1.0</td>\n    </tr>\n    <tr>\n      <th>1221</th>\n      <td>programmer_scientist</td>\n      <td>-1.0</td>\n      <td>-3.5</td>\n      <td>-5.0</td>\n      <td>1.0</td>\n    </tr>\n    <tr>\n      <th>1222</th>\n      <td>paralegal_hygienist</td>\n      <td>-11.0</td>\n      <td>-2.0</td>\n      <td>-4.0</td>\n      <td>-1.0</td>\n    </tr>\n    <tr>\n      <th>1223</th>\n      <td>paralegal_scientist</td>\n      <td>0.0</td>\n      <td>-7.0</td>\n      <td>-5.0</td>\n      <td>-1.0</td>\n    </tr>\n    <tr>\n      <th>1224</th>\n      <td>hygienist_scientist</td>\n      <td>1.0</td>\n      <td>-1.0</td>\n      <td>-4.0</td>\n      <td>1.0</td>\n    </tr>\n  </tbody>\n</table>\n<p>1225 rows × 5 columns</p>\n</div>"
     },
     "metadata": {},
     "execution_count": 303
    }
   ],
   "source": [
    "summary_df"
   ]
  },
  {
   "cell_type": "code",
   "execution_count": 304,
   "metadata": {},
   "outputs": [],
   "source": [
    "summary_df['did'] = (summary_df['ff_pse']-summary_df['mm_pse'])-(summary_df['fm_pse']-summary_df['mf_pse'])"
   ]
  },
  {
   "cell_type": "code",
   "execution_count": 305,
   "metadata": {},
   "outputs": [
    {
     "output_type": "execute_result",
     "data": {
      "text/plain": [
       "                 occupation  ff_pse  mm_pse  fm_pse  mf_pse   did\n",
       "0     technician_accountant    -1.0    -5.0    -4.0    -1.0   7.0\n",
       "1     technician_supervisor    -5.0    -5.0    -5.0     0.0   5.0\n",
       "2       technician_engineer    -1.0     1.0    -1.0     1.0   0.0\n",
       "3         technician_worker     3.0     3.5    -1.0     4.0   4.5\n",
       "4       technician_educator     0.0     2.0     7.0    -2.0 -11.0\n",
       "...                     ...     ...     ...     ...     ...   ...\n",
       "1220   programmer_hygienist    -3.5    -2.0    -3.5     1.0   3.0\n",
       "1221   programmer_scientist    -1.0    -3.5    -5.0     1.0   8.5\n",
       "1222    paralegal_hygienist   -11.0    -2.0    -4.0    -1.0  -6.0\n",
       "1223    paralegal_scientist     0.0    -7.0    -5.0    -1.0  11.0\n",
       "1224    hygienist_scientist     1.0    -1.0    -4.0     1.0   7.0\n",
       "\n",
       "[1225 rows x 6 columns]"
      ],
      "text/html": "<div>\n<style scoped>\n    .dataframe tbody tr th:only-of-type {\n        vertical-align: middle;\n    }\n\n    .dataframe tbody tr th {\n        vertical-align: top;\n    }\n\n    .dataframe thead th {\n        text-align: right;\n    }\n</style>\n<table border=\"1\" class=\"dataframe\">\n  <thead>\n    <tr style=\"text-align: right;\">\n      <th></th>\n      <th>occupation</th>\n      <th>ff_pse</th>\n      <th>mm_pse</th>\n      <th>fm_pse</th>\n      <th>mf_pse</th>\n      <th>did</th>\n    </tr>\n  </thead>\n  <tbody>\n    <tr>\n      <th>0</th>\n      <td>technician_accountant</td>\n      <td>-1.0</td>\n      <td>-5.0</td>\n      <td>-4.0</td>\n      <td>-1.0</td>\n      <td>7.0</td>\n    </tr>\n    <tr>\n      <th>1</th>\n      <td>technician_supervisor</td>\n      <td>-5.0</td>\n      <td>-5.0</td>\n      <td>-5.0</td>\n      <td>0.0</td>\n      <td>5.0</td>\n    </tr>\n    <tr>\n      <th>2</th>\n      <td>technician_engineer</td>\n      <td>-1.0</td>\n      <td>1.0</td>\n      <td>-1.0</td>\n      <td>1.0</td>\n      <td>0.0</td>\n    </tr>\n    <tr>\n      <th>3</th>\n      <td>technician_worker</td>\n      <td>3.0</td>\n      <td>3.5</td>\n      <td>-1.0</td>\n      <td>4.0</td>\n      <td>4.5</td>\n    </tr>\n    <tr>\n      <th>4</th>\n      <td>technician_educator</td>\n      <td>0.0</td>\n      <td>2.0</td>\n      <td>7.0</td>\n      <td>-2.0</td>\n      <td>-11.0</td>\n    </tr>\n    <tr>\n      <th>...</th>\n      <td>...</td>\n      <td>...</td>\n      <td>...</td>\n      <td>...</td>\n      <td>...</td>\n      <td>...</td>\n    </tr>\n    <tr>\n      <th>1220</th>\n      <td>programmer_hygienist</td>\n      <td>-3.5</td>\n      <td>-2.0</td>\n      <td>-3.5</td>\n      <td>1.0</td>\n      <td>3.0</td>\n    </tr>\n    <tr>\n      <th>1221</th>\n      <td>programmer_scientist</td>\n      <td>-1.0</td>\n      <td>-3.5</td>\n      <td>-5.0</td>\n      <td>1.0</td>\n      <td>8.5</td>\n    </tr>\n    <tr>\n      <th>1222</th>\n      <td>paralegal_hygienist</td>\n      <td>-11.0</td>\n      <td>-2.0</td>\n      <td>-4.0</td>\n      <td>-1.0</td>\n      <td>-6.0</td>\n    </tr>\n    <tr>\n      <th>1223</th>\n      <td>paralegal_scientist</td>\n      <td>0.0</td>\n      <td>-7.0</td>\n      <td>-5.0</td>\n      <td>-1.0</td>\n      <td>11.0</td>\n    </tr>\n    <tr>\n      <th>1224</th>\n      <td>hygienist_scientist</td>\n      <td>1.0</td>\n      <td>-1.0</td>\n      <td>-4.0</td>\n      <td>1.0</td>\n      <td>7.0</td>\n    </tr>\n  </tbody>\n</table>\n<p>1225 rows × 6 columns</p>\n</div>"
     },
     "metadata": {},
     "execution_count": 305
    }
   ],
   "source": [
    "summary_df"
   ]
  },
  {
   "cell_type": "code",
   "execution_count": 326,
   "metadata": {},
   "outputs": [],
   "source": [
    "summary_df['ff_mm'] = (summary_df['ff_pse']-summary_df['mm_pse'])"
   ]
  },
  {
   "cell_type": "code",
   "execution_count": 306,
   "metadata": {},
   "outputs": [],
   "source": [
    "hist(summary_df.did)"
   ]
  },
  {
   "cell_type": "code",
   "execution_count": 307,
   "metadata": {},
   "outputs": [
    {
     "output_type": "execute_result",
     "data": {
      "text/plain": [
       "               occupation  ff_pse  mm_pse  fm_pse  mf_pse   did\n",
       "258      educator_teacher    -5.0     9.0     7.0    -5.0 -26.0\n",
       "203        worker_janitor    -7.0     5.0     4.0    -3.0 -19.0\n",
       "1199   nutritionist_baker    -2.0    11.0     7.0     3.0 -17.0\n",
       "644      librarian_lawyer   -14.0     3.0     3.0     3.0 -17.0\n",
       "405      mechanic_manager    -5.0     1.0     3.0    -7.0 -16.0\n",
       "...                   ...     ...     ...     ...     ...   ...\n",
       "347     counselor_plumber     3.0    -7.0    -1.0     7.0  18.0\n",
       "53       accountant_clerk     5.0    -7.0    -5.0     3.0  20.0\n",
       "590     salesperson_baker     7.0   -14.0     7.0     9.0  23.0\n",
       "944      specialist_baker     7.0   -14.0     5.0     7.0  23.0\n",
       "972   officer_pathologist     9.0   -14.0     3.0     7.0  27.0\n",
       "\n",
       "[1225 rows x 6 columns]"
      ],
      "text/html": "<div>\n<style scoped>\n    .dataframe tbody tr th:only-of-type {\n        vertical-align: middle;\n    }\n\n    .dataframe tbody tr th {\n        vertical-align: top;\n    }\n\n    .dataframe thead th {\n        text-align: right;\n    }\n</style>\n<table border=\"1\" class=\"dataframe\">\n  <thead>\n    <tr style=\"text-align: right;\">\n      <th></th>\n      <th>occupation</th>\n      <th>ff_pse</th>\n      <th>mm_pse</th>\n      <th>fm_pse</th>\n      <th>mf_pse</th>\n      <th>did</th>\n    </tr>\n  </thead>\n  <tbody>\n    <tr>\n      <th>258</th>\n      <td>educator_teacher</td>\n      <td>-5.0</td>\n      <td>9.0</td>\n      <td>7.0</td>\n      <td>-5.0</td>\n      <td>-26.0</td>\n    </tr>\n    <tr>\n      <th>203</th>\n      <td>worker_janitor</td>\n      <td>-7.0</td>\n      <td>5.0</td>\n      <td>4.0</td>\n      <td>-3.0</td>\n      <td>-19.0</td>\n    </tr>\n    <tr>\n      <th>1199</th>\n      <td>nutritionist_baker</td>\n      <td>-2.0</td>\n      <td>11.0</td>\n      <td>7.0</td>\n      <td>3.0</td>\n      <td>-17.0</td>\n    </tr>\n    <tr>\n      <th>644</th>\n      <td>librarian_lawyer</td>\n      <td>-14.0</td>\n      <td>3.0</td>\n      <td>3.0</td>\n      <td>3.0</td>\n      <td>-17.0</td>\n    </tr>\n    <tr>\n      <th>405</th>\n      <td>mechanic_manager</td>\n      <td>-5.0</td>\n      <td>1.0</td>\n      <td>3.0</td>\n      <td>-7.0</td>\n      <td>-16.0</td>\n    </tr>\n    <tr>\n      <th>...</th>\n      <td>...</td>\n      <td>...</td>\n      <td>...</td>\n      <td>...</td>\n      <td>...</td>\n      <td>...</td>\n    </tr>\n    <tr>\n      <th>347</th>\n      <td>counselor_plumber</td>\n      <td>3.0</td>\n      <td>-7.0</td>\n      <td>-1.0</td>\n      <td>7.0</td>\n      <td>18.0</td>\n    </tr>\n    <tr>\n      <th>53</th>\n      <td>accountant_clerk</td>\n      <td>5.0</td>\n      <td>-7.0</td>\n      <td>-5.0</td>\n      <td>3.0</td>\n      <td>20.0</td>\n    </tr>\n    <tr>\n      <th>590</th>\n      <td>salesperson_baker</td>\n      <td>7.0</td>\n      <td>-14.0</td>\n      <td>7.0</td>\n      <td>9.0</td>\n      <td>23.0</td>\n    </tr>\n    <tr>\n      <th>944</th>\n      <td>specialist_baker</td>\n      <td>7.0</td>\n      <td>-14.0</td>\n      <td>5.0</td>\n      <td>7.0</td>\n      <td>23.0</td>\n    </tr>\n    <tr>\n      <th>972</th>\n      <td>officer_pathologist</td>\n      <td>9.0</td>\n      <td>-14.0</td>\n      <td>3.0</td>\n      <td>7.0</td>\n      <td>27.0</td>\n    </tr>\n  </tbody>\n</table>\n<p>1225 rows × 6 columns</p>\n</div>"
     },
     "metadata": {},
     "execution_count": 307
    }
   ],
   "source": [
    "summary_df.sort_values(\"did\")"
   ]
  },
  {
   "cell_type": "code",
   "execution_count": 342,
   "metadata": {},
   "outputs": [
    {
     "output_type": "execute_result",
     "data": {
      "text/plain": [
       "                occupation  ff_pse  mm_pse  ...    did  ff_mm  ff-(fm-mf)\n",
       "258       educator_teacher   -5.00     9.0  ... -26.00 -14.00      -17.00\n",
       "389   inspector_instructor  -11.00   -11.0  ...  -4.00   0.00      -15.00\n",
       "405       mechanic_manager   -5.00     1.0  ... -16.00  -6.00      -15.00\n",
       "203         worker_janitor   -7.00     5.0  ... -19.00 -12.00      -14.00\n",
       "644       librarian_lawyer  -14.00     3.0  ... -17.00 -17.00      -14.00\n",
       "...                    ...     ...     ...  ...    ...    ...         ...\n",
       "305          clerk_plumber   -1.00     5.0  ...  10.00  -6.00       15.00\n",
       "318       clerk_programmer    3.00     3.0  ...  12.25   0.00       15.25\n",
       "32      technician_plumber    7.00     1.0  ...  15.00   6.00       16.00\n",
       "1072  practitioner_plumber    8.75     0.0  ...  17.00   8.75       17.00\n",
       "1101    plumber_programmer    3.00     1.0  ...  16.00   2.00       17.00\n",
       "\n",
       "[1225 rows x 8 columns]"
      ],
      "text/html": "<div>\n<style scoped>\n    .dataframe tbody tr th:only-of-type {\n        vertical-align: middle;\n    }\n\n    .dataframe tbody tr th {\n        vertical-align: top;\n    }\n\n    .dataframe thead th {\n        text-align: right;\n    }\n</style>\n<table border=\"1\" class=\"dataframe\">\n  <thead>\n    <tr style=\"text-align: right;\">\n      <th></th>\n      <th>occupation</th>\n      <th>ff_pse</th>\n      <th>mm_pse</th>\n      <th>fm_pse</th>\n      <th>mf_pse</th>\n      <th>did</th>\n      <th>ff_mm</th>\n      <th>ff-(fm-mf)</th>\n    </tr>\n  </thead>\n  <tbody>\n    <tr>\n      <th>258</th>\n      <td>educator_teacher</td>\n      <td>-5.00</td>\n      <td>9.0</td>\n      <td>7.00</td>\n      <td>-5.00</td>\n      <td>-26.00</td>\n      <td>-14.00</td>\n      <td>-17.00</td>\n    </tr>\n    <tr>\n      <th>389</th>\n      <td>inspector_instructor</td>\n      <td>-11.00</td>\n      <td>-11.0</td>\n      <td>-7.00</td>\n      <td>-11.00</td>\n      <td>-4.00</td>\n      <td>0.00</td>\n      <td>-15.00</td>\n    </tr>\n    <tr>\n      <th>405</th>\n      <td>mechanic_manager</td>\n      <td>-5.00</td>\n      <td>1.0</td>\n      <td>3.00</td>\n      <td>-7.00</td>\n      <td>-16.00</td>\n      <td>-6.00</td>\n      <td>-15.00</td>\n    </tr>\n    <tr>\n      <th>203</th>\n      <td>worker_janitor</td>\n      <td>-7.00</td>\n      <td>5.0</td>\n      <td>4.00</td>\n      <td>-3.00</td>\n      <td>-19.00</td>\n      <td>-12.00</td>\n      <td>-14.00</td>\n    </tr>\n    <tr>\n      <th>644</th>\n      <td>librarian_lawyer</td>\n      <td>-14.00</td>\n      <td>3.0</td>\n      <td>3.00</td>\n      <td>3.00</td>\n      <td>-17.00</td>\n      <td>-17.00</td>\n      <td>-14.00</td>\n    </tr>\n    <tr>\n      <th>...</th>\n      <td>...</td>\n      <td>...</td>\n      <td>...</td>\n      <td>...</td>\n      <td>...</td>\n      <td>...</td>\n      <td>...</td>\n      <td>...</td>\n    </tr>\n    <tr>\n      <th>305</th>\n      <td>clerk_plumber</td>\n      <td>-1.00</td>\n      <td>5.0</td>\n      <td>-7.00</td>\n      <td>9.00</td>\n      <td>10.00</td>\n      <td>-6.00</td>\n      <td>15.00</td>\n    </tr>\n    <tr>\n      <th>318</th>\n      <td>clerk_programmer</td>\n      <td>3.00</td>\n      <td>3.0</td>\n      <td>-5.25</td>\n      <td>7.00</td>\n      <td>12.25</td>\n      <td>0.00</td>\n      <td>15.25</td>\n    </tr>\n    <tr>\n      <th>32</th>\n      <td>technician_plumber</td>\n      <td>7.00</td>\n      <td>1.0</td>\n      <td>-5.00</td>\n      <td>4.00</td>\n      <td>15.00</td>\n      <td>6.00</td>\n      <td>16.00</td>\n    </tr>\n    <tr>\n      <th>1072</th>\n      <td>practitioner_plumber</td>\n      <td>8.75</td>\n      <td>0.0</td>\n      <td>-3.00</td>\n      <td>5.25</td>\n      <td>17.00</td>\n      <td>8.75</td>\n      <td>17.00</td>\n    </tr>\n    <tr>\n      <th>1101</th>\n      <td>plumber_programmer</td>\n      <td>3.00</td>\n      <td>1.0</td>\n      <td>-11.00</td>\n      <td>3.00</td>\n      <td>16.00</td>\n      <td>2.00</td>\n      <td>17.00</td>\n    </tr>\n  </tbody>\n</table>\n<p>1225 rows × 8 columns</p>\n</div>"
     },
     "metadata": {},
     "execution_count": 342
    }
   ],
   "source": [
    "summary_df[summary_df.occupation.str.contains('')].sort_values(\"ff-(fm-mf)\")"
   ]
  },
  {
   "cell_type": "code",
   "execution_count": 336,
   "metadata": {},
   "outputs": [],
   "source": [
    "summary_df['ff-(fm-mf)'] = summary_df['ff_pse']-(summary_df['fm_pse']-summary_df['mf_pse'])"
   ]
  },
  {
   "cell_type": "code",
   "execution_count": 343,
   "metadata": {},
   "outputs": [
    {
     "output_type": "execute_result",
     "data": {
      "text/plain": [
       "                                 filename       value  ... rank changepoints\n",
       "0   male_inspector_male_instructor-14.pcm   inspector  ...  -14          0.0\n",
       "1   male_inspector_male_instructor-12.pcm   inspector  ...  -12          0.0\n",
       "2   male_inspector_male_instructor-10.pcm  instructor  ...  -10          1.0\n",
       "3   male_inspector_male_instructor-08.pcm  instructor  ...   -8          1.0\n",
       "4   male_inspector_male_instructor-06.pcm  instructor  ...   -6          1.0\n",
       "5   male_inspector_male_instructor-04.pcm  instructor  ...   -4          1.0\n",
       "6   male_inspector_male_instructor-02.pcm  instructor  ...   -2          1.0\n",
       "7   male_inspector_male_instructor+00.pcm  instructor  ...    0          1.0\n",
       "8   male_inspector_male_instructor+02.pcm  instructor  ...    2          1.0\n",
       "9   male_inspector_male_instructor+04.pcm  instructor  ...    4          1.0\n",
       "10  male_inspector_male_instructor+06.pcm  instructor  ...    6          1.0\n",
       "11  male_inspector_male_instructor+08.pcm  instructor  ...    8          1.0\n",
       "12  male_inspector_male_instructor+10.pcm  instructor  ...   10          1.0\n",
       "13  male_inspector_male_instructor+12.pcm  instructor  ...   12          1.0\n",
       "14  male_inspector_male_instructor+14.pcm  instructor  ...   14          1.0\n",
       "\n",
       "[15 rows x 8 columns]"
      ],
      "text/html": "<div>\n<style scoped>\n    .dataframe tbody tr th:only-of-type {\n        vertical-align: middle;\n    }\n\n    .dataframe tbody tr th {\n        vertical-align: top;\n    }\n\n    .dataframe thead th {\n        text-align: right;\n    }\n</style>\n<table border=\"1\" class=\"dataframe\">\n  <thead>\n    <tr style=\"text-align: right;\">\n      <th></th>\n      <th>filename</th>\n      <th>value</th>\n      <th>inputTranscript</th>\n      <th>interpretations</th>\n      <th>sessionId</th>\n      <th>res</th>\n      <th>rank</th>\n      <th>changepoints</th>\n    </tr>\n  </thead>\n  <tbody>\n    <tr>\n      <th>0</th>\n      <td>male_inspector_male_instructor-14.pcm</td>\n      <td>inspector</td>\n      <td>\"my occupation is inspector\"</td>\n      <td>[{\"nluConfidence\":{\"score\":1.0},\"intent\":{\"nam...</td>\n      <td>74dffea9-e434-4804-b41d-aaa21881595f</td>\n      <td>{'ResponseMetadata': {'RequestId': '07a576c6-7...</td>\n      <td>-14</td>\n      <td>0.0</td>\n    </tr>\n    <tr>\n      <th>1</th>\n      <td>male_inspector_male_instructor-12.pcm</td>\n      <td>inspector</td>\n      <td>\"my occupation is inspector\"</td>\n      <td>[{\"nluConfidence\":{\"score\":1.0},\"intent\":{\"nam...</td>\n      <td>c1e2906d-006b-4dcc-9dff-da3f12c1b620</td>\n      <td>{'ResponseMetadata': {'RequestId': '2f3432bc-9...</td>\n      <td>-12</td>\n      <td>0.0</td>\n    </tr>\n    <tr>\n      <th>2</th>\n      <td>male_inspector_male_instructor-10.pcm</td>\n      <td>instructor</td>\n      <td>\"my occupation is instructor\"</td>\n      <td>[{\"nluConfidence\":{\"score\":1.0},\"intent\":{\"nam...</td>\n      <td>15fc808f-2317-467c-80dd-82728fc85b70</td>\n      <td>{'ResponseMetadata': {'RequestId': '8dbf076f-7...</td>\n      <td>-10</td>\n      <td>1.0</td>\n    </tr>\n    <tr>\n      <th>3</th>\n      <td>male_inspector_male_instructor-08.pcm</td>\n      <td>instructor</td>\n      <td>\"my occupation is instructor\"</td>\n      <td>[{\"nluConfidence\":{\"score\":1.0},\"intent\":{\"nam...</td>\n      <td>0e8f9e2c-46af-41cf-8352-816bb8ce465b</td>\n      <td>{'ResponseMetadata': {'RequestId': '90d2377d-5...</td>\n      <td>-8</td>\n      <td>1.0</td>\n    </tr>\n    <tr>\n      <th>4</th>\n      <td>male_inspector_male_instructor-06.pcm</td>\n      <td>instructor</td>\n      <td>\"my occupation is instructor\"</td>\n      <td>[{\"nluConfidence\":{\"score\":1.0},\"intent\":{\"nam...</td>\n      <td>0fea3ebb-5c9a-4977-8d63-0b3add15fe40</td>\n      <td>{'ResponseMetadata': {'RequestId': '915f0606-4...</td>\n      <td>-6</td>\n      <td>1.0</td>\n    </tr>\n    <tr>\n      <th>5</th>\n      <td>male_inspector_male_instructor-04.pcm</td>\n      <td>instructor</td>\n      <td>\"my occupation is instructor\"</td>\n      <td>[{\"nluConfidence\":{\"score\":1.0},\"intent\":{\"nam...</td>\n      <td>e84ae6b1-8f11-44cc-b586-b45e65b13ad9</td>\n      <td>{'ResponseMetadata': {'RequestId': '595821fa-a...</td>\n      <td>-4</td>\n      <td>1.0</td>\n    </tr>\n    <tr>\n      <th>6</th>\n      <td>male_inspector_male_instructor-02.pcm</td>\n      <td>instructor</td>\n      <td>\"my occupation is instructor\"</td>\n      <td>[{\"nluConfidence\":{\"score\":1.0},\"intent\":{\"nam...</td>\n      <td>42b7c047-0384-4d3a-9221-2732b126ab4c</td>\n      <td>{'ResponseMetadata': {'RequestId': '8a7b3fb1-8...</td>\n      <td>-2</td>\n      <td>1.0</td>\n    </tr>\n    <tr>\n      <th>7</th>\n      <td>male_inspector_male_instructor+00.pcm</td>\n      <td>instructor</td>\n      <td>\"my occupation is instructor\"</td>\n      <td>[{\"nluConfidence\":{\"score\":1.0},\"intent\":{\"nam...</td>\n      <td>134412a2-d5ae-4b0a-96b2-0d690961d57c</td>\n      <td>{'ResponseMetadata': {'RequestId': '43cb61b3-0...</td>\n      <td>0</td>\n      <td>1.0</td>\n    </tr>\n    <tr>\n      <th>8</th>\n      <td>male_inspector_male_instructor+02.pcm</td>\n      <td>instructor</td>\n      <td>\"my occupation is instructor\"</td>\n      <td>[{\"nluConfidence\":{\"score\":1.0},\"intent\":{\"nam...</td>\n      <td>d62710a8-29c6-4970-9df8-9c8c55a841da</td>\n      <td>{'ResponseMetadata': {'RequestId': '9dcfbdc3-4...</td>\n      <td>2</td>\n      <td>1.0</td>\n    </tr>\n    <tr>\n      <th>9</th>\n      <td>male_inspector_male_instructor+04.pcm</td>\n      <td>instructor</td>\n      <td>\"my occupation is instructor\"</td>\n      <td>[{\"nluConfidence\":{\"score\":1.0},\"intent\":{\"nam...</td>\n      <td>4d13cb75-95bd-4e23-9182-ab1111bfa3fd</td>\n      <td>{'ResponseMetadata': {'RequestId': '3f042723-4...</td>\n      <td>4</td>\n      <td>1.0</td>\n    </tr>\n    <tr>\n      <th>10</th>\n      <td>male_inspector_male_instructor+06.pcm</td>\n      <td>instructor</td>\n      <td>\"my occupation is instructor\"</td>\n      <td>[{\"nluConfidence\":{\"score\":1.0},\"intent\":{\"nam...</td>\n      <td>e874bdd2-1995-4e9e-a1d5-cd098883d838</td>\n      <td>{'ResponseMetadata': {'RequestId': '20c37186-d...</td>\n      <td>6</td>\n      <td>1.0</td>\n    </tr>\n    <tr>\n      <th>11</th>\n      <td>male_inspector_male_instructor+08.pcm</td>\n      <td>instructor</td>\n      <td>\"my occupation is instructor\"</td>\n      <td>[{\"nluConfidence\":{\"score\":1.0},\"intent\":{\"nam...</td>\n      <td>b80eb735-743d-4313-8855-4d55478e8775</td>\n      <td>{'ResponseMetadata': {'RequestId': '46a87935-a...</td>\n      <td>8</td>\n      <td>1.0</td>\n    </tr>\n    <tr>\n      <th>12</th>\n      <td>male_inspector_male_instructor+10.pcm</td>\n      <td>instructor</td>\n      <td>\"my occupation is instructor\"</td>\n      <td>[{\"nluConfidence\":{\"score\":1.0},\"intent\":{\"nam...</td>\n      <td>715ec4cc-e752-44eb-8301-d3550764cf12</td>\n      <td>{'ResponseMetadata': {'RequestId': 'd37d84a7-6...</td>\n      <td>10</td>\n      <td>1.0</td>\n    </tr>\n    <tr>\n      <th>13</th>\n      <td>male_inspector_male_instructor+12.pcm</td>\n      <td>instructor</td>\n      <td>\"my occupation is instructor\"</td>\n      <td>[{\"nluConfidence\":{\"score\":1.0},\"intent\":{\"nam...</td>\n      <td>8d139d49-2fae-4c67-a7f0-b615d6e55131</td>\n      <td>{'ResponseMetadata': {'RequestId': '7ea9a16f-3...</td>\n      <td>12</td>\n      <td>1.0</td>\n    </tr>\n    <tr>\n      <th>14</th>\n      <td>male_inspector_male_instructor+14.pcm</td>\n      <td>instructor</td>\n      <td>\"my occupation is instructor\"</td>\n      <td>[{\"nluConfidence\":{\"score\":1.0},\"intent\":{\"nam...</td>\n      <td>1bf06b67-d053-4100-b8f8-501b96e8b83a</td>\n      <td>{'ResponseMetadata': {'RequestId': 'fd289188-b...</td>\n      <td>14</td>\n      <td>1.0</td>\n    </tr>\n  </tbody>\n</table>\n</div>"
     },
     "metadata": {},
     "execution_count": 343
    }
   ],
   "source": [
    "pd.read_feather(\"data/male_inspector_male_instructor.feather\")"
   ]
  },
  {
   "cell_type": "code",
   "execution_count": 344,
   "metadata": {},
   "outputs": [],
   "source": [
    "from preprocessing import generate_mixed_audio\n",
    "generate_mixed_audio(\"male_inspector\",\"male_instructor\")"
   ]
  },
  {
   "cell_type": "code",
   "execution_count": null,
   "metadata": {},
   "outputs": [],
   "source": []
  }
 ]
}